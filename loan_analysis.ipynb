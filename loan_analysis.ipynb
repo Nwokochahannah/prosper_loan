{
 "cells": [
  {
   "cell_type": "markdown",
   "metadata": {},
   "source": [
    "## Table of Contents\n",
    "- <a href = \"#intro\"> Introduction </a>\n",
    "    - <a href = \"#imports\"> Notebook Imports </a>\n",
    "    - <a href = \"#constants\"> Constants </a>\n",
    "    - <a href = \"#functions\"> Functions </a>\n",
    "- <a href = \"#wrangling\">Data Wrangling</a>\n",
    "    - <a href = \"#gathering\"> Data Gathering </a>\n",
    "    - <a href = \"#assessing\"> Data Assessing </a>\n",
    "    - <a href = \"#cleaning\"> Data Cleaning </a>\n",
    "    - <a href = \"#storing\"> Data Storing </a>\n",
    "- <a href = \"#analysis\"> Data Exploration and Visualization </a>\n",
    "    - <a href = \"#univariate\">Univariate Exploration</a>\n",
    "    - <a href = \"#bivariate\">Bivariate Exploration</a>\n",
    "    - <a href = \"#multivariate\">Multivariate Exploration</a>\n",
    "- <a href = \"#conclusions\"> Conclusions </a>"
   ]
  },
  {
   "cell_type": "markdown",
   "metadata": {},
   "source": [
    "# Prosper Loan Dataset\n",
    "## by Nwokocha Hannah"
   ]
  },
  {
   "cell_type": "markdown",
   "metadata": {},
   "source": [
    "<a id='intro'></a>\n",
    "## Introduction\n",
    "This dataset is a financial dataset and is related to the borrowers, lenders, interest rates on different loans. Prosper or Prosper Marketplace Inc. is a San Francisco, California based company specializing in loans at low interest rates to the borrowers. In this dataset, I am analysing data from Prosper database and trying to find the pattern in the Prosper data. This may be tedious because of the sheer size of the dataset and the complicated nature of all the financial datasets. I am using Python, an advanced high level programming language for the analysis with some of its most popular graphic package matplotlib and seaborn.\n",
    "\n",
    "The dataset is comprised of 81 variables and contains 113937 entries."
   ]
  },
  {
   "cell_type": "markdown",
   "metadata": {},
   "source": [
    "<a id='imports'></a>\n",
    "### Notebook Imports"
   ]
  },
  {
   "cell_type": "code",
   "execution_count": 2,
   "metadata": {},
   "outputs": [],
   "source": [
    "import numpy as np\n",
    "import pandas as pd\n",
    "import matplotlib.pyplot as plt\n",
    "import seaborn as sb\n",
    "\n",
    "%matplotlib inline"
   ]
  },
  {
   "cell_type": "markdown",
   "metadata": {},
   "source": [
    "<a id = \"functions\"></a>\n",
    "### Functions"
   ]
  },
  {
   "cell_type": "markdown",
   "metadata": {},
   "source": [
    "#### Convert datatypes"
   ]
  },
  {
   "cell_type": "code",
   "execution_count": 3,
   "metadata": {},
   "outputs": [],
   "source": [
    "def converter(data, col, dtype):\n",
    "    if dtype == 'date':\n",
    "        if type(col) == list:\n",
    "            for i in col:\n",
    "                data[i] = pd.to_datetime(data[i])\n",
    "        else:\n",
    "            data[col] = pd.to_datetime(data[col])\n",
    "    else:\n",
    "        if type(col) == list:\n",
    "            for i in col:\n",
    "                data[i] = data[i].astype(dtype)\n",
    "        else:\n",
    "            data[col] = data[col].astype(dtype)"
   ]
  },
  {
   "cell_type": "markdown",
   "metadata": {},
   "source": [
    "<a id = \"wrangling\"></a>\n",
    "## Data Wrangling"
   ]
  },
  {
   "cell_type": "markdown",
   "metadata": {},
   "source": [
    "<a id = \"gathering\"></a>\n",
    "### Data Gathering"
   ]
  },
  {
   "cell_type": "code",
   "execution_count": 4,
   "metadata": {},
   "outputs": [],
   "source": [
    "loan_df = pd.read_csv(\"ProsperLoanData.csv\")"
   ]
  },
  {
   "cell_type": "markdown",
   "metadata": {},
   "source": [
    "<a id='assessing'></a>\n",
    "### Assessing Data"
   ]
  },
  {
   "cell_type": "code",
   "execution_count": 5,
   "metadata": {},
   "outputs": [
    {
     "data": {
      "text/plain": [
       "(113937, 81)"
      ]
     },
     "execution_count": 5,
     "metadata": {},
     "output_type": "execute_result"
    }
   ],
   "source": [
    "loan_df.shape"
   ]
  },
  {
   "cell_type": "code",
   "execution_count": 6,
   "metadata": {
    "scrolled": true
   },
   "outputs": [
    {
     "data": {
      "text/html": [
       "<div>\n",
       "<style scoped>\n",
       "    .dataframe tbody tr th:only-of-type {\n",
       "        vertical-align: middle;\n",
       "    }\n",
       "\n",
       "    .dataframe tbody tr th {\n",
       "        vertical-align: top;\n",
       "    }\n",
       "\n",
       "    .dataframe thead th {\n",
       "        text-align: right;\n",
       "    }\n",
       "</style>\n",
       "<table border=\"1\" class=\"dataframe\">\n",
       "  <thead>\n",
       "    <tr style=\"text-align: right;\">\n",
       "      <th></th>\n",
       "      <th>ListingKey</th>\n",
       "      <th>ListingNumber</th>\n",
       "      <th>ListingCreationDate</th>\n",
       "      <th>CreditGrade</th>\n",
       "      <th>Term</th>\n",
       "      <th>LoanStatus</th>\n",
       "      <th>ClosedDate</th>\n",
       "      <th>BorrowerAPR</th>\n",
       "      <th>BorrowerRate</th>\n",
       "      <th>LenderYield</th>\n",
       "      <th>...</th>\n",
       "      <th>LP_ServiceFees</th>\n",
       "      <th>LP_CollectionFees</th>\n",
       "      <th>LP_GrossPrincipalLoss</th>\n",
       "      <th>LP_NetPrincipalLoss</th>\n",
       "      <th>LP_NonPrincipalRecoverypayments</th>\n",
       "      <th>PercentFunded</th>\n",
       "      <th>Recommendations</th>\n",
       "      <th>InvestmentFromFriendsCount</th>\n",
       "      <th>InvestmentFromFriendsAmount</th>\n",
       "      <th>Investors</th>\n",
       "    </tr>\n",
       "  </thead>\n",
       "  <tbody>\n",
       "    <tr>\n",
       "      <th>0</th>\n",
       "      <td>1021339766868145413AB3B</td>\n",
       "      <td>193129</td>\n",
       "      <td>2007-08-26 19:09:29.263000000</td>\n",
       "      <td>C</td>\n",
       "      <td>36</td>\n",
       "      <td>Completed</td>\n",
       "      <td>2009-08-14 00:00:00</td>\n",
       "      <td>0.16516</td>\n",
       "      <td>0.1580</td>\n",
       "      <td>0.1380</td>\n",
       "      <td>...</td>\n",
       "      <td>-133.18</td>\n",
       "      <td>0.0</td>\n",
       "      <td>0.0</td>\n",
       "      <td>0.0</td>\n",
       "      <td>0.0</td>\n",
       "      <td>1.0</td>\n",
       "      <td>0</td>\n",
       "      <td>0</td>\n",
       "      <td>0.0</td>\n",
       "      <td>258</td>\n",
       "    </tr>\n",
       "    <tr>\n",
       "      <th>1</th>\n",
       "      <td>10273602499503308B223C1</td>\n",
       "      <td>1209647</td>\n",
       "      <td>2014-02-27 08:28:07.900000000</td>\n",
       "      <td>NaN</td>\n",
       "      <td>36</td>\n",
       "      <td>Current</td>\n",
       "      <td>NaN</td>\n",
       "      <td>0.12016</td>\n",
       "      <td>0.0920</td>\n",
       "      <td>0.0820</td>\n",
       "      <td>...</td>\n",
       "      <td>0.00</td>\n",
       "      <td>0.0</td>\n",
       "      <td>0.0</td>\n",
       "      <td>0.0</td>\n",
       "      <td>0.0</td>\n",
       "      <td>1.0</td>\n",
       "      <td>0</td>\n",
       "      <td>0</td>\n",
       "      <td>0.0</td>\n",
       "      <td>1</td>\n",
       "    </tr>\n",
       "    <tr>\n",
       "      <th>2</th>\n",
       "      <td>0EE9337825851032864889A</td>\n",
       "      <td>81716</td>\n",
       "      <td>2007-01-05 15:00:47.090000000</td>\n",
       "      <td>HR</td>\n",
       "      <td>36</td>\n",
       "      <td>Completed</td>\n",
       "      <td>2009-12-17 00:00:00</td>\n",
       "      <td>0.28269</td>\n",
       "      <td>0.2750</td>\n",
       "      <td>0.2400</td>\n",
       "      <td>...</td>\n",
       "      <td>-24.20</td>\n",
       "      <td>0.0</td>\n",
       "      <td>0.0</td>\n",
       "      <td>0.0</td>\n",
       "      <td>0.0</td>\n",
       "      <td>1.0</td>\n",
       "      <td>0</td>\n",
       "      <td>0</td>\n",
       "      <td>0.0</td>\n",
       "      <td>41</td>\n",
       "    </tr>\n",
       "    <tr>\n",
       "      <th>3</th>\n",
       "      <td>0EF5356002482715299901A</td>\n",
       "      <td>658116</td>\n",
       "      <td>2012-10-22 11:02:35.010000000</td>\n",
       "      <td>NaN</td>\n",
       "      <td>36</td>\n",
       "      <td>Current</td>\n",
       "      <td>NaN</td>\n",
       "      <td>0.12528</td>\n",
       "      <td>0.0974</td>\n",
       "      <td>0.0874</td>\n",
       "      <td>...</td>\n",
       "      <td>-108.01</td>\n",
       "      <td>0.0</td>\n",
       "      <td>0.0</td>\n",
       "      <td>0.0</td>\n",
       "      <td>0.0</td>\n",
       "      <td>1.0</td>\n",
       "      <td>0</td>\n",
       "      <td>0</td>\n",
       "      <td>0.0</td>\n",
       "      <td>158</td>\n",
       "    </tr>\n",
       "    <tr>\n",
       "      <th>4</th>\n",
       "      <td>0F023589499656230C5E3E2</td>\n",
       "      <td>909464</td>\n",
       "      <td>2013-09-14 18:38:39.097000000</td>\n",
       "      <td>NaN</td>\n",
       "      <td>36</td>\n",
       "      <td>Current</td>\n",
       "      <td>NaN</td>\n",
       "      <td>0.24614</td>\n",
       "      <td>0.2085</td>\n",
       "      <td>0.1985</td>\n",
       "      <td>...</td>\n",
       "      <td>-60.27</td>\n",
       "      <td>0.0</td>\n",
       "      <td>0.0</td>\n",
       "      <td>0.0</td>\n",
       "      <td>0.0</td>\n",
       "      <td>1.0</td>\n",
       "      <td>0</td>\n",
       "      <td>0</td>\n",
       "      <td>0.0</td>\n",
       "      <td>20</td>\n",
       "    </tr>\n",
       "  </tbody>\n",
       "</table>\n",
       "<p>5 rows × 81 columns</p>\n",
       "</div>"
      ],
      "text/plain": [
       "                ListingKey  ListingNumber            ListingCreationDate  \\\n",
       "0  1021339766868145413AB3B         193129  2007-08-26 19:09:29.263000000   \n",
       "1  10273602499503308B223C1        1209647  2014-02-27 08:28:07.900000000   \n",
       "2  0EE9337825851032864889A          81716  2007-01-05 15:00:47.090000000   \n",
       "3  0EF5356002482715299901A         658116  2012-10-22 11:02:35.010000000   \n",
       "4  0F023589499656230C5E3E2         909464  2013-09-14 18:38:39.097000000   \n",
       "\n",
       "  CreditGrade  Term LoanStatus           ClosedDate  BorrowerAPR  \\\n",
       "0           C    36  Completed  2009-08-14 00:00:00      0.16516   \n",
       "1         NaN    36    Current                  NaN      0.12016   \n",
       "2          HR    36  Completed  2009-12-17 00:00:00      0.28269   \n",
       "3         NaN    36    Current                  NaN      0.12528   \n",
       "4         NaN    36    Current                  NaN      0.24614   \n",
       "\n",
       "   BorrowerRate  LenderYield  ...  LP_ServiceFees  LP_CollectionFees  \\\n",
       "0        0.1580       0.1380  ...         -133.18                0.0   \n",
       "1        0.0920       0.0820  ...            0.00                0.0   \n",
       "2        0.2750       0.2400  ...          -24.20                0.0   \n",
       "3        0.0974       0.0874  ...         -108.01                0.0   \n",
       "4        0.2085       0.1985  ...          -60.27                0.0   \n",
       "\n",
       "   LP_GrossPrincipalLoss  LP_NetPrincipalLoss LP_NonPrincipalRecoverypayments  \\\n",
       "0                    0.0                  0.0                             0.0   \n",
       "1                    0.0                  0.0                             0.0   \n",
       "2                    0.0                  0.0                             0.0   \n",
       "3                    0.0                  0.0                             0.0   \n",
       "4                    0.0                  0.0                             0.0   \n",
       "\n",
       "   PercentFunded  Recommendations InvestmentFromFriendsCount  \\\n",
       "0            1.0                0                          0   \n",
       "1            1.0                0                          0   \n",
       "2            1.0                0                          0   \n",
       "3            1.0                0                          0   \n",
       "4            1.0                0                          0   \n",
       "\n",
       "  InvestmentFromFriendsAmount Investors  \n",
       "0                         0.0       258  \n",
       "1                         0.0         1  \n",
       "2                         0.0        41  \n",
       "3                         0.0       158  \n",
       "4                         0.0        20  \n",
       "\n",
       "[5 rows x 81 columns]"
      ]
     },
     "execution_count": 6,
     "metadata": {},
     "output_type": "execute_result"
    }
   ],
   "source": [
    "loan_df.head()"
   ]
  },
  {
   "cell_type": "code",
   "execution_count": 7,
   "metadata": {},
   "outputs": [
    {
     "data": {
      "text/html": [
       "<div>\n",
       "<style scoped>\n",
       "    .dataframe tbody tr th:only-of-type {\n",
       "        vertical-align: middle;\n",
       "    }\n",
       "\n",
       "    .dataframe tbody tr th {\n",
       "        vertical-align: top;\n",
       "    }\n",
       "\n",
       "    .dataframe thead th {\n",
       "        text-align: right;\n",
       "    }\n",
       "</style>\n",
       "<table border=\"1\" class=\"dataframe\">\n",
       "  <thead>\n",
       "    <tr style=\"text-align: right;\">\n",
       "      <th></th>\n",
       "      <th>ListingNumber</th>\n",
       "      <th>Term</th>\n",
       "      <th>BorrowerAPR</th>\n",
       "      <th>BorrowerRate</th>\n",
       "      <th>LenderYield</th>\n",
       "      <th>EstimatedEffectiveYield</th>\n",
       "      <th>EstimatedLoss</th>\n",
       "      <th>EstimatedReturn</th>\n",
       "      <th>ProsperRating (numeric)</th>\n",
       "      <th>ProsperScore</th>\n",
       "      <th>...</th>\n",
       "      <th>LP_ServiceFees</th>\n",
       "      <th>LP_CollectionFees</th>\n",
       "      <th>LP_GrossPrincipalLoss</th>\n",
       "      <th>LP_NetPrincipalLoss</th>\n",
       "      <th>LP_NonPrincipalRecoverypayments</th>\n",
       "      <th>PercentFunded</th>\n",
       "      <th>Recommendations</th>\n",
       "      <th>InvestmentFromFriendsCount</th>\n",
       "      <th>InvestmentFromFriendsAmount</th>\n",
       "      <th>Investors</th>\n",
       "    </tr>\n",
       "  </thead>\n",
       "  <tbody>\n",
       "    <tr>\n",
       "      <th>count</th>\n",
       "      <td>1.139370e+05</td>\n",
       "      <td>113937.000000</td>\n",
       "      <td>113912.000000</td>\n",
       "      <td>113937.000000</td>\n",
       "      <td>113937.000000</td>\n",
       "      <td>84853.000000</td>\n",
       "      <td>84853.000000</td>\n",
       "      <td>84853.000000</td>\n",
       "      <td>84853.000000</td>\n",
       "      <td>84853.000000</td>\n",
       "      <td>...</td>\n",
       "      <td>113937.000000</td>\n",
       "      <td>113937.000000</td>\n",
       "      <td>113937.000000</td>\n",
       "      <td>113937.000000</td>\n",
       "      <td>113937.000000</td>\n",
       "      <td>113937.000000</td>\n",
       "      <td>113937.000000</td>\n",
       "      <td>113937.000000</td>\n",
       "      <td>113937.000000</td>\n",
       "      <td>113937.000000</td>\n",
       "    </tr>\n",
       "    <tr>\n",
       "      <th>mean</th>\n",
       "      <td>6.278857e+05</td>\n",
       "      <td>40.830248</td>\n",
       "      <td>0.218828</td>\n",
       "      <td>0.192764</td>\n",
       "      <td>0.182701</td>\n",
       "      <td>0.168661</td>\n",
       "      <td>0.080306</td>\n",
       "      <td>0.096068</td>\n",
       "      <td>4.072243</td>\n",
       "      <td>5.950067</td>\n",
       "      <td>...</td>\n",
       "      <td>-54.725641</td>\n",
       "      <td>-14.242698</td>\n",
       "      <td>700.446342</td>\n",
       "      <td>681.420499</td>\n",
       "      <td>25.142686</td>\n",
       "      <td>0.998584</td>\n",
       "      <td>0.048027</td>\n",
       "      <td>0.023460</td>\n",
       "      <td>16.550751</td>\n",
       "      <td>80.475228</td>\n",
       "    </tr>\n",
       "    <tr>\n",
       "      <th>std</th>\n",
       "      <td>3.280762e+05</td>\n",
       "      <td>10.436212</td>\n",
       "      <td>0.080364</td>\n",
       "      <td>0.074818</td>\n",
       "      <td>0.074516</td>\n",
       "      <td>0.068467</td>\n",
       "      <td>0.046764</td>\n",
       "      <td>0.030403</td>\n",
       "      <td>1.673227</td>\n",
       "      <td>2.376501</td>\n",
       "      <td>...</td>\n",
       "      <td>60.675425</td>\n",
       "      <td>109.232758</td>\n",
       "      <td>2388.513831</td>\n",
       "      <td>2357.167068</td>\n",
       "      <td>275.657937</td>\n",
       "      <td>0.017919</td>\n",
       "      <td>0.332353</td>\n",
       "      <td>0.232412</td>\n",
       "      <td>294.545422</td>\n",
       "      <td>103.239020</td>\n",
       "    </tr>\n",
       "    <tr>\n",
       "      <th>min</th>\n",
       "      <td>4.000000e+00</td>\n",
       "      <td>12.000000</td>\n",
       "      <td>0.006530</td>\n",
       "      <td>0.000000</td>\n",
       "      <td>-0.010000</td>\n",
       "      <td>-0.182700</td>\n",
       "      <td>0.004900</td>\n",
       "      <td>-0.182700</td>\n",
       "      <td>1.000000</td>\n",
       "      <td>1.000000</td>\n",
       "      <td>...</td>\n",
       "      <td>-664.870000</td>\n",
       "      <td>-9274.750000</td>\n",
       "      <td>-94.200000</td>\n",
       "      <td>-954.550000</td>\n",
       "      <td>0.000000</td>\n",
       "      <td>0.700000</td>\n",
       "      <td>0.000000</td>\n",
       "      <td>0.000000</td>\n",
       "      <td>0.000000</td>\n",
       "      <td>1.000000</td>\n",
       "    </tr>\n",
       "    <tr>\n",
       "      <th>25%</th>\n",
       "      <td>4.009190e+05</td>\n",
       "      <td>36.000000</td>\n",
       "      <td>0.156290</td>\n",
       "      <td>0.134000</td>\n",
       "      <td>0.124200</td>\n",
       "      <td>0.115670</td>\n",
       "      <td>0.042400</td>\n",
       "      <td>0.074080</td>\n",
       "      <td>3.000000</td>\n",
       "      <td>4.000000</td>\n",
       "      <td>...</td>\n",
       "      <td>-73.180000</td>\n",
       "      <td>0.000000</td>\n",
       "      <td>0.000000</td>\n",
       "      <td>0.000000</td>\n",
       "      <td>0.000000</td>\n",
       "      <td>1.000000</td>\n",
       "      <td>0.000000</td>\n",
       "      <td>0.000000</td>\n",
       "      <td>0.000000</td>\n",
       "      <td>2.000000</td>\n",
       "    </tr>\n",
       "    <tr>\n",
       "      <th>50%</th>\n",
       "      <td>6.005540e+05</td>\n",
       "      <td>36.000000</td>\n",
       "      <td>0.209760</td>\n",
       "      <td>0.184000</td>\n",
       "      <td>0.173000</td>\n",
       "      <td>0.161500</td>\n",
       "      <td>0.072400</td>\n",
       "      <td>0.091700</td>\n",
       "      <td>4.000000</td>\n",
       "      <td>6.000000</td>\n",
       "      <td>...</td>\n",
       "      <td>-34.440000</td>\n",
       "      <td>0.000000</td>\n",
       "      <td>0.000000</td>\n",
       "      <td>0.000000</td>\n",
       "      <td>0.000000</td>\n",
       "      <td>1.000000</td>\n",
       "      <td>0.000000</td>\n",
       "      <td>0.000000</td>\n",
       "      <td>0.000000</td>\n",
       "      <td>44.000000</td>\n",
       "    </tr>\n",
       "    <tr>\n",
       "      <th>75%</th>\n",
       "      <td>8.926340e+05</td>\n",
       "      <td>36.000000</td>\n",
       "      <td>0.283810</td>\n",
       "      <td>0.250000</td>\n",
       "      <td>0.240000</td>\n",
       "      <td>0.224300</td>\n",
       "      <td>0.112000</td>\n",
       "      <td>0.116600</td>\n",
       "      <td>5.000000</td>\n",
       "      <td>8.000000</td>\n",
       "      <td>...</td>\n",
       "      <td>-13.920000</td>\n",
       "      <td>0.000000</td>\n",
       "      <td>0.000000</td>\n",
       "      <td>0.000000</td>\n",
       "      <td>0.000000</td>\n",
       "      <td>1.000000</td>\n",
       "      <td>0.000000</td>\n",
       "      <td>0.000000</td>\n",
       "      <td>0.000000</td>\n",
       "      <td>115.000000</td>\n",
       "    </tr>\n",
       "    <tr>\n",
       "      <th>max</th>\n",
       "      <td>1.255725e+06</td>\n",
       "      <td>60.000000</td>\n",
       "      <td>0.512290</td>\n",
       "      <td>0.497500</td>\n",
       "      <td>0.492500</td>\n",
       "      <td>0.319900</td>\n",
       "      <td>0.366000</td>\n",
       "      <td>0.283700</td>\n",
       "      <td>7.000000</td>\n",
       "      <td>11.000000</td>\n",
       "      <td>...</td>\n",
       "      <td>32.060000</td>\n",
       "      <td>0.000000</td>\n",
       "      <td>25000.000000</td>\n",
       "      <td>25000.000000</td>\n",
       "      <td>21117.900000</td>\n",
       "      <td>1.012500</td>\n",
       "      <td>39.000000</td>\n",
       "      <td>33.000000</td>\n",
       "      <td>25000.000000</td>\n",
       "      <td>1189.000000</td>\n",
       "    </tr>\n",
       "  </tbody>\n",
       "</table>\n",
       "<p>8 rows × 61 columns</p>\n",
       "</div>"
      ],
      "text/plain": [
       "       ListingNumber           Term    BorrowerAPR   BorrowerRate  \\\n",
       "count   1.139370e+05  113937.000000  113912.000000  113937.000000   \n",
       "mean    6.278857e+05      40.830248       0.218828       0.192764   \n",
       "std     3.280762e+05      10.436212       0.080364       0.074818   \n",
       "min     4.000000e+00      12.000000       0.006530       0.000000   \n",
       "25%     4.009190e+05      36.000000       0.156290       0.134000   \n",
       "50%     6.005540e+05      36.000000       0.209760       0.184000   \n",
       "75%     8.926340e+05      36.000000       0.283810       0.250000   \n",
       "max     1.255725e+06      60.000000       0.512290       0.497500   \n",
       "\n",
       "         LenderYield  EstimatedEffectiveYield  EstimatedLoss  EstimatedReturn  \\\n",
       "count  113937.000000             84853.000000   84853.000000     84853.000000   \n",
       "mean        0.182701                 0.168661       0.080306         0.096068   \n",
       "std         0.074516                 0.068467       0.046764         0.030403   \n",
       "min        -0.010000                -0.182700       0.004900        -0.182700   \n",
       "25%         0.124200                 0.115670       0.042400         0.074080   \n",
       "50%         0.173000                 0.161500       0.072400         0.091700   \n",
       "75%         0.240000                 0.224300       0.112000         0.116600   \n",
       "max         0.492500                 0.319900       0.366000         0.283700   \n",
       "\n",
       "       ProsperRating (numeric)  ProsperScore  ...  LP_ServiceFees  \\\n",
       "count             84853.000000  84853.000000  ...   113937.000000   \n",
       "mean                  4.072243      5.950067  ...      -54.725641   \n",
       "std                   1.673227      2.376501  ...       60.675425   \n",
       "min                   1.000000      1.000000  ...     -664.870000   \n",
       "25%                   3.000000      4.000000  ...      -73.180000   \n",
       "50%                   4.000000      6.000000  ...      -34.440000   \n",
       "75%                   5.000000      8.000000  ...      -13.920000   \n",
       "max                   7.000000     11.000000  ...       32.060000   \n",
       "\n",
       "       LP_CollectionFees  LP_GrossPrincipalLoss  LP_NetPrincipalLoss  \\\n",
       "count      113937.000000          113937.000000        113937.000000   \n",
       "mean          -14.242698             700.446342           681.420499   \n",
       "std           109.232758            2388.513831          2357.167068   \n",
       "min         -9274.750000             -94.200000          -954.550000   \n",
       "25%             0.000000               0.000000             0.000000   \n",
       "50%             0.000000               0.000000             0.000000   \n",
       "75%             0.000000               0.000000             0.000000   \n",
       "max             0.000000           25000.000000         25000.000000   \n",
       "\n",
       "       LP_NonPrincipalRecoverypayments  PercentFunded  Recommendations  \\\n",
       "count                    113937.000000  113937.000000    113937.000000   \n",
       "mean                         25.142686       0.998584         0.048027   \n",
       "std                         275.657937       0.017919         0.332353   \n",
       "min                           0.000000       0.700000         0.000000   \n",
       "25%                           0.000000       1.000000         0.000000   \n",
       "50%                           0.000000       1.000000         0.000000   \n",
       "75%                           0.000000       1.000000         0.000000   \n",
       "max                       21117.900000       1.012500        39.000000   \n",
       "\n",
       "       InvestmentFromFriendsCount  InvestmentFromFriendsAmount      Investors  \n",
       "count               113937.000000                113937.000000  113937.000000  \n",
       "mean                     0.023460                    16.550751      80.475228  \n",
       "std                      0.232412                   294.545422     103.239020  \n",
       "min                      0.000000                     0.000000       1.000000  \n",
       "25%                      0.000000                     0.000000       2.000000  \n",
       "50%                      0.000000                     0.000000      44.000000  \n",
       "75%                      0.000000                     0.000000     115.000000  \n",
       "max                     33.000000                 25000.000000    1189.000000  \n",
       "\n",
       "[8 rows x 61 columns]"
      ]
     },
     "execution_count": 7,
     "metadata": {},
     "output_type": "execute_result"
    }
   ],
   "source": [
    "loan_df.describe()"
   ]
  },
  {
   "cell_type": "code",
   "execution_count": 8,
   "metadata": {
    "scrolled": true
   },
   "outputs": [
    {
     "name": "stdout",
     "output_type": "stream",
     "text": [
      "<class 'pandas.core.frame.DataFrame'>\n",
      "RangeIndex: 113937 entries, 0 to 113936\n",
      "Data columns (total 81 columns):\n",
      " #   Column                               Non-Null Count   Dtype  \n",
      "---  ------                               --------------   -----  \n",
      " 0   ListingKey                           113937 non-null  object \n",
      " 1   ListingNumber                        113937 non-null  int64  \n",
      " 2   ListingCreationDate                  113937 non-null  object \n",
      " 3   CreditGrade                          28953 non-null   object \n",
      " 4   Term                                 113937 non-null  int64  \n",
      " 5   LoanStatus                           113937 non-null  object \n",
      " 6   ClosedDate                           55089 non-null   object \n",
      " 7   BorrowerAPR                          113912 non-null  float64\n",
      " 8   BorrowerRate                         113937 non-null  float64\n",
      " 9   LenderYield                          113937 non-null  float64\n",
      " 10  EstimatedEffectiveYield              84853 non-null   float64\n",
      " 11  EstimatedLoss                        84853 non-null   float64\n",
      " 12  EstimatedReturn                      84853 non-null   float64\n",
      " 13  ProsperRating (numeric)              84853 non-null   float64\n",
      " 14  ProsperRating (Alpha)                84853 non-null   object \n",
      " 15  ProsperScore                         84853 non-null   float64\n",
      " 16  ListingCategory (numeric)            113937 non-null  int64  \n",
      " 17  BorrowerState                        108422 non-null  object \n",
      " 18  Occupation                           110349 non-null  object \n",
      " 19  EmploymentStatus                     111682 non-null  object \n",
      " 20  EmploymentStatusDuration             106312 non-null  float64\n",
      " 21  IsBorrowerHomeowner                  113937 non-null  bool   \n",
      " 22  CurrentlyInGroup                     113937 non-null  bool   \n",
      " 23  GroupKey                             13341 non-null   object \n",
      " 24  DateCreditPulled                     113937 non-null  object \n",
      " 25  CreditScoreRangeLower                113346 non-null  float64\n",
      " 26  CreditScoreRangeUpper                113346 non-null  float64\n",
      " 27  FirstRecordedCreditLine              113240 non-null  object \n",
      " 28  CurrentCreditLines                   106333 non-null  float64\n",
      " 29  OpenCreditLines                      106333 non-null  float64\n",
      " 30  TotalCreditLinespast7years           113240 non-null  float64\n",
      " 31  OpenRevolvingAccounts                113937 non-null  int64  \n",
      " 32  OpenRevolvingMonthlyPayment          113937 non-null  float64\n",
      " 33  InquiriesLast6Months                 113240 non-null  float64\n",
      " 34  TotalInquiries                       112778 non-null  float64\n",
      " 35  CurrentDelinquencies                 113240 non-null  float64\n",
      " 36  AmountDelinquent                     106315 non-null  float64\n",
      " 37  DelinquenciesLast7Years              112947 non-null  float64\n",
      " 38  PublicRecordsLast10Years             113240 non-null  float64\n",
      " 39  PublicRecordsLast12Months            106333 non-null  float64\n",
      " 40  RevolvingCreditBalance               106333 non-null  float64\n",
      " 41  BankcardUtilization                  106333 non-null  float64\n",
      " 42  AvailableBankcardCredit              106393 non-null  float64\n",
      " 43  TotalTrades                          106393 non-null  float64\n",
      " 44  TradesNeverDelinquent (percentage)   106393 non-null  float64\n",
      " 45  TradesOpenedLast6Months              106393 non-null  float64\n",
      " 46  DebtToIncomeRatio                    105383 non-null  float64\n",
      " 47  IncomeRange                          113937 non-null  object \n",
      " 48  IncomeVerifiable                     113937 non-null  bool   \n",
      " 49  StatedMonthlyIncome                  113937 non-null  float64\n",
      " 50  LoanKey                              113937 non-null  object \n",
      " 51  TotalProsperLoans                    22085 non-null   float64\n",
      " 52  TotalProsperPaymentsBilled           22085 non-null   float64\n",
      " 53  OnTimeProsperPayments                22085 non-null   float64\n",
      " 54  ProsperPaymentsLessThanOneMonthLate  22085 non-null   float64\n",
      " 55  ProsperPaymentsOneMonthPlusLate      22085 non-null   float64\n",
      " 56  ProsperPrincipalBorrowed             22085 non-null   float64\n",
      " 57  ProsperPrincipalOutstanding          22085 non-null   float64\n",
      " 58  ScorexChangeAtTimeOfListing          18928 non-null   float64\n",
      " 59  LoanCurrentDaysDelinquent            113937 non-null  int64  \n",
      " 60  LoanFirstDefaultedCycleNumber        16952 non-null   float64\n",
      " 61  LoanMonthsSinceOrigination           113937 non-null  int64  \n",
      " 62  LoanNumber                           113937 non-null  int64  \n",
      " 63  LoanOriginalAmount                   113937 non-null  int64  \n",
      " 64  LoanOriginationDate                  113937 non-null  object \n",
      " 65  LoanOriginationQuarter               113937 non-null  object \n",
      " 66  MemberKey                            113937 non-null  object \n",
      " 67  MonthlyLoanPayment                   113937 non-null  float64\n",
      " 68  LP_CustomerPayments                  113937 non-null  float64\n",
      " 69  LP_CustomerPrincipalPayments         113937 non-null  float64\n",
      " 70  LP_InterestandFees                   113937 non-null  float64\n",
      " 71  LP_ServiceFees                       113937 non-null  float64\n",
      " 72  LP_CollectionFees                    113937 non-null  float64\n",
      " 73  LP_GrossPrincipalLoss                113937 non-null  float64\n",
      " 74  LP_NetPrincipalLoss                  113937 non-null  float64\n",
      " 75  LP_NonPrincipalRecoverypayments      113937 non-null  float64\n",
      " 76  PercentFunded                        113937 non-null  float64\n",
      " 77  Recommendations                      113937 non-null  int64  \n",
      " 78  InvestmentFromFriendsCount           113937 non-null  int64  \n",
      " 79  InvestmentFromFriendsAmount          113937 non-null  float64\n",
      " 80  Investors                            113937 non-null  int64  \n",
      "dtypes: bool(3), float64(50), int64(11), object(17)\n",
      "memory usage: 68.1+ MB\n"
     ]
    }
   ],
   "source": [
    "loan_df.info()"
   ]
  },
  {
   "cell_type": "code",
   "execution_count": 9,
   "metadata": {
    "scrolled": true
   },
   "outputs": [
    {
     "data": {
      "text/plain": [
       "ListingKey                         0\n",
       "ListingNumber                      0\n",
       "ListingCreationDate                0\n",
       "CreditGrade                    84984\n",
       "Term                               0\n",
       "                               ...  \n",
       "PercentFunded                      0\n",
       "Recommendations                    0\n",
       "InvestmentFromFriendsCount         0\n",
       "InvestmentFromFriendsAmount        0\n",
       "Investors                          0\n",
       "Length: 81, dtype: int64"
      ]
     },
     "execution_count": 9,
     "metadata": {},
     "output_type": "execute_result"
    }
   ],
   "source": [
    "loan_df.isna().sum()"
   ]
  },
  {
   "cell_type": "markdown",
   "metadata": {},
   "source": [
    "<a id='cleaning'></a>\n",
    "### Cleaning Data"
   ]
  },
  {
   "cell_type": "code",
   "execution_count": 10,
   "metadata": {},
   "outputs": [],
   "source": [
    "data = loan_df.copy()"
   ]
  },
  {
   "cell_type": "markdown",
   "metadata": {},
   "source": [
    "#### Drop columns with extreme amount of Null values"
   ]
  },
  {
   "cell_type": "markdown",
   "metadata": {},
   "source": [
    "#### Define\n",
    "Drop columns with extreme amount of Null values"
   ]
  },
  {
   "cell_type": "markdown",
   "metadata": {},
   "source": [
    "#### Code"
   ]
  },
  {
   "cell_type": "code",
   "execution_count": 11,
   "metadata": {},
   "outputs": [
    {
     "data": {
      "text/plain": [
       "['CreditGrade',\n",
       " 'ClosedDate',\n",
       " 'GroupKey',\n",
       " 'TotalProsperLoans',\n",
       " 'TotalProsperPaymentsBilled',\n",
       " 'OnTimeProsperPayments',\n",
       " 'ProsperPaymentsLessThanOneMonthLate',\n",
       " 'ProsperPaymentsOneMonthPlusLate',\n",
       " 'ProsperPrincipalBorrowed',\n",
       " 'ProsperPrincipalOutstanding',\n",
       " 'ScorexChangeAtTimeOfListing',\n",
       " 'LoanFirstDefaultedCycleNumber']"
      ]
     },
     "execution_count": 11,
     "metadata": {},
     "output_type": "execute_result"
    }
   ],
   "source": [
    "large_na = [col for col in data.columns if data[col].isna().sum() >= 58848]\n",
    "large_na"
   ]
  },
  {
   "cell_type": "code",
   "execution_count": 12,
   "metadata": {},
   "outputs": [],
   "source": [
    "data.drop(large_na, axis = 1, inplace = True)"
   ]
  },
  {
   "cell_type": "markdown",
   "metadata": {},
   "source": [
    "#### Test"
   ]
  },
  {
   "cell_type": "code",
   "execution_count": 13,
   "metadata": {
    "scrolled": true
   },
   "outputs": [
    {
     "name": "stdout",
     "output_type": "stream",
     "text": [
      "<class 'pandas.core.frame.DataFrame'>\n",
      "RangeIndex: 113937 entries, 0 to 113936\n",
      "Data columns (total 69 columns):\n",
      " #   Column                              Non-Null Count   Dtype  \n",
      "---  ------                              --------------   -----  \n",
      " 0   ListingKey                          113937 non-null  object \n",
      " 1   ListingNumber                       113937 non-null  int64  \n",
      " 2   ListingCreationDate                 113937 non-null  object \n",
      " 3   Term                                113937 non-null  int64  \n",
      " 4   LoanStatus                          113937 non-null  object \n",
      " 5   BorrowerAPR                         113912 non-null  float64\n",
      " 6   BorrowerRate                        113937 non-null  float64\n",
      " 7   LenderYield                         113937 non-null  float64\n",
      " 8   EstimatedEffectiveYield             84853 non-null   float64\n",
      " 9   EstimatedLoss                       84853 non-null   float64\n",
      " 10  EstimatedReturn                     84853 non-null   float64\n",
      " 11  ProsperRating (numeric)             84853 non-null   float64\n",
      " 12  ProsperRating (Alpha)               84853 non-null   object \n",
      " 13  ProsperScore                        84853 non-null   float64\n",
      " 14  ListingCategory (numeric)           113937 non-null  int64  \n",
      " 15  BorrowerState                       108422 non-null  object \n",
      " 16  Occupation                          110349 non-null  object \n",
      " 17  EmploymentStatus                    111682 non-null  object \n",
      " 18  EmploymentStatusDuration            106312 non-null  float64\n",
      " 19  IsBorrowerHomeowner                 113937 non-null  bool   \n",
      " 20  CurrentlyInGroup                    113937 non-null  bool   \n",
      " 21  DateCreditPulled                    113937 non-null  object \n",
      " 22  CreditScoreRangeLower               113346 non-null  float64\n",
      " 23  CreditScoreRangeUpper               113346 non-null  float64\n",
      " 24  FirstRecordedCreditLine             113240 non-null  object \n",
      " 25  CurrentCreditLines                  106333 non-null  float64\n",
      " 26  OpenCreditLines                     106333 non-null  float64\n",
      " 27  TotalCreditLinespast7years          113240 non-null  float64\n",
      " 28  OpenRevolvingAccounts               113937 non-null  int64  \n",
      " 29  OpenRevolvingMonthlyPayment         113937 non-null  float64\n",
      " 30  InquiriesLast6Months                113240 non-null  float64\n",
      " 31  TotalInquiries                      112778 non-null  float64\n",
      " 32  CurrentDelinquencies                113240 non-null  float64\n",
      " 33  AmountDelinquent                    106315 non-null  float64\n",
      " 34  DelinquenciesLast7Years             112947 non-null  float64\n",
      " 35  PublicRecordsLast10Years            113240 non-null  float64\n",
      " 36  PublicRecordsLast12Months           106333 non-null  float64\n",
      " 37  RevolvingCreditBalance              106333 non-null  float64\n",
      " 38  BankcardUtilization                 106333 non-null  float64\n",
      " 39  AvailableBankcardCredit             106393 non-null  float64\n",
      " 40  TotalTrades                         106393 non-null  float64\n",
      " 41  TradesNeverDelinquent (percentage)  106393 non-null  float64\n",
      " 42  TradesOpenedLast6Months             106393 non-null  float64\n",
      " 43  DebtToIncomeRatio                   105383 non-null  float64\n",
      " 44  IncomeRange                         113937 non-null  object \n",
      " 45  IncomeVerifiable                    113937 non-null  bool   \n",
      " 46  StatedMonthlyIncome                 113937 non-null  float64\n",
      " 47  LoanKey                             113937 non-null  object \n",
      " 48  LoanCurrentDaysDelinquent           113937 non-null  int64  \n",
      " 49  LoanMonthsSinceOrigination          113937 non-null  int64  \n",
      " 50  LoanNumber                          113937 non-null  int64  \n",
      " 51  LoanOriginalAmount                  113937 non-null  int64  \n",
      " 52  LoanOriginationDate                 113937 non-null  object \n",
      " 53  LoanOriginationQuarter              113937 non-null  object \n",
      " 54  MemberKey                           113937 non-null  object \n",
      " 55  MonthlyLoanPayment                  113937 non-null  float64\n",
      " 56  LP_CustomerPayments                 113937 non-null  float64\n",
      " 57  LP_CustomerPrincipalPayments        113937 non-null  float64\n",
      " 58  LP_InterestandFees                  113937 non-null  float64\n",
      " 59  LP_ServiceFees                      113937 non-null  float64\n",
      " 60  LP_CollectionFees                   113937 non-null  float64\n",
      " 61  LP_GrossPrincipalLoss               113937 non-null  float64\n",
      " 62  LP_NetPrincipalLoss                 113937 non-null  float64\n",
      " 63  LP_NonPrincipalRecoverypayments     113937 non-null  float64\n",
      " 64  PercentFunded                       113937 non-null  float64\n",
      " 65  Recommendations                     113937 non-null  int64  \n",
      " 66  InvestmentFromFriendsCount          113937 non-null  int64  \n",
      " 67  InvestmentFromFriendsAmount         113937 non-null  float64\n",
      " 68  Investors                           113937 non-null  int64  \n",
      "dtypes: bool(3), float64(41), int64(11), object(14)\n",
      "memory usage: 57.7+ MB\n"
     ]
    }
   ],
   "source": [
    "data.info()"
   ]
  },
  {
   "cell_type": "markdown",
   "metadata": {},
   "source": [
    "#### Replace Null values with Mean or Mode of their columns"
   ]
  },
  {
   "cell_type": "markdown",
   "metadata": {},
   "source": [
    "#### Define\n",
    "Replace Null values with Mean or Mode of their columns"
   ]
  },
  {
   "cell_type": "markdown",
   "metadata": {},
   "source": [
    "#### Code"
   ]
  },
  {
   "cell_type": "code",
   "execution_count": 14,
   "metadata": {
    "scrolled": true
   },
   "outputs": [
    {
     "data": {
      "text/plain": [
       "['BorrowerAPR',\n",
       " 'EstimatedEffectiveYield',\n",
       " 'EstimatedLoss',\n",
       " 'EstimatedReturn',\n",
       " 'ProsperRating (numeric)',\n",
       " 'ProsperRating (Alpha)',\n",
       " 'ProsperScore',\n",
       " 'BorrowerState',\n",
       " 'Occupation',\n",
       " 'EmploymentStatus',\n",
       " 'EmploymentStatusDuration',\n",
       " 'CreditScoreRangeLower',\n",
       " 'CreditScoreRangeUpper',\n",
       " 'FirstRecordedCreditLine',\n",
       " 'CurrentCreditLines',\n",
       " 'OpenCreditLines',\n",
       " 'TotalCreditLinespast7years',\n",
       " 'InquiriesLast6Months',\n",
       " 'TotalInquiries',\n",
       " 'CurrentDelinquencies',\n",
       " 'AmountDelinquent',\n",
       " 'DelinquenciesLast7Years',\n",
       " 'PublicRecordsLast10Years',\n",
       " 'PublicRecordsLast12Months',\n",
       " 'RevolvingCreditBalance',\n",
       " 'BankcardUtilization',\n",
       " 'AvailableBankcardCredit',\n",
       " 'TotalTrades',\n",
       " 'TradesNeverDelinquent (percentage)',\n",
       " 'TradesOpenedLast6Months',\n",
       " 'DebtToIncomeRatio']"
      ]
     },
     "execution_count": 14,
     "metadata": {},
     "output_type": "execute_result"
    }
   ],
   "source": [
    "null_cols = [col for col in data.columns if data[col].isna().any() == True]\n",
    "null_cols"
   ]
  },
  {
   "cell_type": "code",
   "execution_count": 15,
   "metadata": {},
   "outputs": [],
   "source": [
    "for col in null_cols:\n",
    "    if data[col].dtypes in ['float64', 'int64']:\n",
    "        mean = data[col].mean()\n",
    "        data[col].fillna(mean, inplace = True)\n",
    "    else:\n",
    "        mode = data[col].mode()[0]\n",
    "        data[col].fillna(mode, inplace = True)"
   ]
  },
  {
   "cell_type": "markdown",
   "metadata": {},
   "source": [
    "#### Test"
   ]
  },
  {
   "cell_type": "code",
   "execution_count": 16,
   "metadata": {
    "scrolled": true
   },
   "outputs": [
    {
     "name": "stdout",
     "output_type": "stream",
     "text": [
      "<class 'pandas.core.frame.DataFrame'>\n",
      "RangeIndex: 113937 entries, 0 to 113936\n",
      "Data columns (total 69 columns):\n",
      " #   Column                              Non-Null Count   Dtype  \n",
      "---  ------                              --------------   -----  \n",
      " 0   ListingKey                          113937 non-null  object \n",
      " 1   ListingNumber                       113937 non-null  int64  \n",
      " 2   ListingCreationDate                 113937 non-null  object \n",
      " 3   Term                                113937 non-null  int64  \n",
      " 4   LoanStatus                          113937 non-null  object \n",
      " 5   BorrowerAPR                         113937 non-null  float64\n",
      " 6   BorrowerRate                        113937 non-null  float64\n",
      " 7   LenderYield                         113937 non-null  float64\n",
      " 8   EstimatedEffectiveYield             113937 non-null  float64\n",
      " 9   EstimatedLoss                       113937 non-null  float64\n",
      " 10  EstimatedReturn                     113937 non-null  float64\n",
      " 11  ProsperRating (numeric)             113937 non-null  float64\n",
      " 12  ProsperRating (Alpha)               113937 non-null  object \n",
      " 13  ProsperScore                        113937 non-null  float64\n",
      " 14  ListingCategory (numeric)           113937 non-null  int64  \n",
      " 15  BorrowerState                       113937 non-null  object \n",
      " 16  Occupation                          113937 non-null  object \n",
      " 17  EmploymentStatus                    113937 non-null  object \n",
      " 18  EmploymentStatusDuration            113937 non-null  float64\n",
      " 19  IsBorrowerHomeowner                 113937 non-null  bool   \n",
      " 20  CurrentlyInGroup                    113937 non-null  bool   \n",
      " 21  DateCreditPulled                    113937 non-null  object \n",
      " 22  CreditScoreRangeLower               113937 non-null  float64\n",
      " 23  CreditScoreRangeUpper               113937 non-null  float64\n",
      " 24  FirstRecordedCreditLine             113937 non-null  object \n",
      " 25  CurrentCreditLines                  113937 non-null  float64\n",
      " 26  OpenCreditLines                     113937 non-null  float64\n",
      " 27  TotalCreditLinespast7years          113937 non-null  float64\n",
      " 28  OpenRevolvingAccounts               113937 non-null  int64  \n",
      " 29  OpenRevolvingMonthlyPayment         113937 non-null  float64\n",
      " 30  InquiriesLast6Months                113937 non-null  float64\n",
      " 31  TotalInquiries                      113937 non-null  float64\n",
      " 32  CurrentDelinquencies                113937 non-null  float64\n",
      " 33  AmountDelinquent                    113937 non-null  float64\n",
      " 34  DelinquenciesLast7Years             113937 non-null  float64\n",
      " 35  PublicRecordsLast10Years            113937 non-null  float64\n",
      " 36  PublicRecordsLast12Months           113937 non-null  float64\n",
      " 37  RevolvingCreditBalance              113937 non-null  float64\n",
      " 38  BankcardUtilization                 113937 non-null  float64\n",
      " 39  AvailableBankcardCredit             113937 non-null  float64\n",
      " 40  TotalTrades                         113937 non-null  float64\n",
      " 41  TradesNeverDelinquent (percentage)  113937 non-null  float64\n",
      " 42  TradesOpenedLast6Months             113937 non-null  float64\n",
      " 43  DebtToIncomeRatio                   113937 non-null  float64\n",
      " 44  IncomeRange                         113937 non-null  object \n",
      " 45  IncomeVerifiable                    113937 non-null  bool   \n",
      " 46  StatedMonthlyIncome                 113937 non-null  float64\n",
      " 47  LoanKey                             113937 non-null  object \n",
      " 48  LoanCurrentDaysDelinquent           113937 non-null  int64  \n",
      " 49  LoanMonthsSinceOrigination          113937 non-null  int64  \n",
      " 50  LoanNumber                          113937 non-null  int64  \n",
      " 51  LoanOriginalAmount                  113937 non-null  int64  \n",
      " 52  LoanOriginationDate                 113937 non-null  object \n",
      " 53  LoanOriginationQuarter              113937 non-null  object \n",
      " 54  MemberKey                           113937 non-null  object \n",
      " 55  MonthlyLoanPayment                  113937 non-null  float64\n",
      " 56  LP_CustomerPayments                 113937 non-null  float64\n",
      " 57  LP_CustomerPrincipalPayments        113937 non-null  float64\n",
      " 58  LP_InterestandFees                  113937 non-null  float64\n",
      " 59  LP_ServiceFees                      113937 non-null  float64\n",
      " 60  LP_CollectionFees                   113937 non-null  float64\n",
      " 61  LP_GrossPrincipalLoss               113937 non-null  float64\n",
      " 62  LP_NetPrincipalLoss                 113937 non-null  float64\n",
      " 63  LP_NonPrincipalRecoverypayments     113937 non-null  float64\n",
      " 64  PercentFunded                       113937 non-null  float64\n",
      " 65  Recommendations                     113937 non-null  int64  \n",
      " 66  InvestmentFromFriendsCount          113937 non-null  int64  \n",
      " 67  InvestmentFromFriendsAmount         113937 non-null  float64\n",
      " 68  Investors                           113937 non-null  int64  \n",
      "dtypes: bool(3), float64(41), int64(11), object(14)\n",
      "memory usage: 57.7+ MB\n"
     ]
    }
   ],
   "source": [
    "data.info()"
   ]
  },
  {
   "cell_type": "code",
   "execution_count": 17,
   "metadata": {},
   "outputs": [
    {
     "data": {
      "text/plain": [
       "[]"
      ]
     },
     "execution_count": 17,
     "metadata": {},
     "output_type": "execute_result"
    }
   ],
   "source": [
    "na_cols = [col for col in data.columns if data[col].isna().sum() > 0]\n",
    "na_cols"
   ]
  },
  {
   "cell_type": "markdown",
   "metadata": {},
   "source": [
    "#### Erroneous Datatype"
   ]
  },
  {
   "cell_type": "markdown",
   "metadata": {},
   "source": [
    "#### Define\n",
    "Most column data types have to be corrected"
   ]
  },
  {
   "cell_type": "markdown",
   "metadata": {},
   "source": [
    "#### Code"
   ]
  },
  {
   "cell_type": "code",
   "execution_count": 18,
   "metadata": {},
   "outputs": [],
   "source": [
    "date = [\"ListingCreationDate\", \"DateCreditPulled\", \"FirstRecordedCreditLine\", \"LoanOriginationDate\"]\n",
    "converter(data, date, \"date\")"
   ]
  },
  {
   "cell_type": "code",
   "execution_count": 19,
   "metadata": {},
   "outputs": [],
   "source": [
    "string = [\"ProsperRating (numeric)\", \"ProsperScore\", \"ListingCategory (numeric)\", \"LoanNumber\"]\n",
    "converter(data, string, int)\n",
    "converter(data, string, object)"
   ]
  },
  {
   "cell_type": "code",
   "execution_count": 20,
   "metadata": {},
   "outputs": [],
   "source": [
    "integer = [\"EmploymentStatusDuration\", \"CreditScoreRangeLower\", \"CreditScoreRangeUpper\", \"CurrentCreditLines\", \n",
    "           \"OpenCreditLines\", \"TotalCreditLinespast7years\", \"InquiriesLast6Months\", \"TotalInquiries\", \"CurrentDelinquencies\", \n",
    "           \"AmountDelinquent\", \"DelinquenciesLast7Years\", \"PublicRecordsLast10Years\", \"PublicRecordsLast12Months\", \"TotalTrades\",\n",
    "           \"TradesOpenedLast6Months\", ]\n",
    "converter(data, integer, \"int64\")"
   ]
  },
  {
   "cell_type": "markdown",
   "metadata": {},
   "source": [
    "#### Test"
   ]
  },
  {
   "cell_type": "code",
   "execution_count": 21,
   "metadata": {
    "scrolled": true
   },
   "outputs": [
    {
     "name": "stdout",
     "output_type": "stream",
     "text": [
      "<class 'pandas.core.frame.DataFrame'>\n",
      "RangeIndex: 113937 entries, 0 to 113936\n",
      "Data columns (total 69 columns):\n",
      " #   Column                              Non-Null Count   Dtype         \n",
      "---  ------                              --------------   -----         \n",
      " 0   ListingKey                          113937 non-null  object        \n",
      " 1   ListingNumber                       113937 non-null  int64         \n",
      " 2   ListingCreationDate                 113937 non-null  datetime64[ns]\n",
      " 3   Term                                113937 non-null  int64         \n",
      " 4   LoanStatus                          113937 non-null  object        \n",
      " 5   BorrowerAPR                         113937 non-null  float64       \n",
      " 6   BorrowerRate                        113937 non-null  float64       \n",
      " 7   LenderYield                         113937 non-null  float64       \n",
      " 8   EstimatedEffectiveYield             113937 non-null  float64       \n",
      " 9   EstimatedLoss                       113937 non-null  float64       \n",
      " 10  EstimatedReturn                     113937 non-null  float64       \n",
      " 11  ProsperRating (numeric)             113937 non-null  object        \n",
      " 12  ProsperRating (Alpha)               113937 non-null  object        \n",
      " 13  ProsperScore                        113937 non-null  object        \n",
      " 14  ListingCategory (numeric)           113937 non-null  object        \n",
      " 15  BorrowerState                       113937 non-null  object        \n",
      " 16  Occupation                          113937 non-null  object        \n",
      " 17  EmploymentStatus                    113937 non-null  object        \n",
      " 18  EmploymentStatusDuration            113937 non-null  int64         \n",
      " 19  IsBorrowerHomeowner                 113937 non-null  bool          \n",
      " 20  CurrentlyInGroup                    113937 non-null  bool          \n",
      " 21  DateCreditPulled                    113937 non-null  datetime64[ns]\n",
      " 22  CreditScoreRangeLower               113937 non-null  int64         \n",
      " 23  CreditScoreRangeUpper               113937 non-null  int64         \n",
      " 24  FirstRecordedCreditLine             113937 non-null  datetime64[ns]\n",
      " 25  CurrentCreditLines                  113937 non-null  int64         \n",
      " 26  OpenCreditLines                     113937 non-null  int64         \n",
      " 27  TotalCreditLinespast7years          113937 non-null  int64         \n",
      " 28  OpenRevolvingAccounts               113937 non-null  int64         \n",
      " 29  OpenRevolvingMonthlyPayment         113937 non-null  float64       \n",
      " 30  InquiriesLast6Months                113937 non-null  int64         \n",
      " 31  TotalInquiries                      113937 non-null  int64         \n",
      " 32  CurrentDelinquencies                113937 non-null  int64         \n",
      " 33  AmountDelinquent                    113937 non-null  int64         \n",
      " 34  DelinquenciesLast7Years             113937 non-null  int64         \n",
      " 35  PublicRecordsLast10Years            113937 non-null  int64         \n",
      " 36  PublicRecordsLast12Months           113937 non-null  int64         \n",
      " 37  RevolvingCreditBalance              113937 non-null  float64       \n",
      " 38  BankcardUtilization                 113937 non-null  float64       \n",
      " 39  AvailableBankcardCredit             113937 non-null  float64       \n",
      " 40  TotalTrades                         113937 non-null  int64         \n",
      " 41  TradesNeverDelinquent (percentage)  113937 non-null  float64       \n",
      " 42  TradesOpenedLast6Months             113937 non-null  int64         \n",
      " 43  DebtToIncomeRatio                   113937 non-null  float64       \n",
      " 44  IncomeRange                         113937 non-null  object        \n",
      " 45  IncomeVerifiable                    113937 non-null  bool          \n",
      " 46  StatedMonthlyIncome                 113937 non-null  float64       \n",
      " 47  LoanKey                             113937 non-null  object        \n",
      " 48  LoanCurrentDaysDelinquent           113937 non-null  int64         \n",
      " 49  LoanMonthsSinceOrigination          113937 non-null  int64         \n",
      " 50  LoanNumber                          113937 non-null  object        \n",
      " 51  LoanOriginalAmount                  113937 non-null  int64         \n",
      " 52  LoanOriginationDate                 113937 non-null  datetime64[ns]\n",
      " 53  LoanOriginationQuarter              113937 non-null  object        \n",
      " 54  MemberKey                           113937 non-null  object        \n",
      " 55  MonthlyLoanPayment                  113937 non-null  float64       \n",
      " 56  LP_CustomerPayments                 113937 non-null  float64       \n",
      " 57  LP_CustomerPrincipalPayments        113937 non-null  float64       \n",
      " 58  LP_InterestandFees                  113937 non-null  float64       \n",
      " 59  LP_ServiceFees                      113937 non-null  float64       \n",
      " 60  LP_CollectionFees                   113937 non-null  float64       \n",
      " 61  LP_GrossPrincipalLoss               113937 non-null  float64       \n",
      " 62  LP_NetPrincipalLoss                 113937 non-null  float64       \n",
      " 63  LP_NonPrincipalRecoverypayments     113937 non-null  float64       \n",
      " 64  PercentFunded                       113937 non-null  float64       \n",
      " 65  Recommendations                     113937 non-null  int64         \n",
      " 66  InvestmentFromFriendsCount          113937 non-null  int64         \n",
      " 67  InvestmentFromFriendsAmount         113937 non-null  float64       \n",
      " 68  Investors                           113937 non-null  int64         \n",
      "dtypes: bool(3), datetime64[ns](4), float64(24), int64(24), object(14)\n",
      "memory usage: 57.7+ MB\n"
     ]
    }
   ],
   "source": [
    "data.info()"
   ]
  },
  {
   "cell_type": "code",
   "execution_count": 22,
   "metadata": {
    "scrolled": true
   },
   "outputs": [
    {
     "data": {
      "text/html": [
       "<div>\n",
       "<style scoped>\n",
       "    .dataframe tbody tr th:only-of-type {\n",
       "        vertical-align: middle;\n",
       "    }\n",
       "\n",
       "    .dataframe tbody tr th {\n",
       "        vertical-align: top;\n",
       "    }\n",
       "\n",
       "    .dataframe thead th {\n",
       "        text-align: right;\n",
       "    }\n",
       "</style>\n",
       "<table border=\"1\" class=\"dataframe\">\n",
       "  <thead>\n",
       "    <tr style=\"text-align: right;\">\n",
       "      <th></th>\n",
       "      <th>ListingKey</th>\n",
       "      <th>ListingNumber</th>\n",
       "      <th>ListingCreationDate</th>\n",
       "      <th>Term</th>\n",
       "      <th>LoanStatus</th>\n",
       "      <th>BorrowerAPR</th>\n",
       "      <th>BorrowerRate</th>\n",
       "      <th>LenderYield</th>\n",
       "      <th>EstimatedEffectiveYield</th>\n",
       "      <th>EstimatedLoss</th>\n",
       "      <th>EstimatedReturn</th>\n",
       "      <th>ProsperRating (numeric)</th>\n",
       "      <th>ProsperRating (Alpha)</th>\n",
       "      <th>ProsperScore</th>\n",
       "      <th>ListingCategory (numeric)</th>\n",
       "      <th>BorrowerState</th>\n",
       "      <th>Occupation</th>\n",
       "      <th>EmploymentStatus</th>\n",
       "      <th>EmploymentStatusDuration</th>\n",
       "      <th>IsBorrowerHomeowner</th>\n",
       "      <th>CurrentlyInGroup</th>\n",
       "      <th>DateCreditPulled</th>\n",
       "      <th>CreditScoreRangeLower</th>\n",
       "      <th>CreditScoreRangeUpper</th>\n",
       "      <th>FirstRecordedCreditLine</th>\n",
       "      <th>CurrentCreditLines</th>\n",
       "      <th>OpenCreditLines</th>\n",
       "      <th>TotalCreditLinespast7years</th>\n",
       "      <th>OpenRevolvingAccounts</th>\n",
       "      <th>OpenRevolvingMonthlyPayment</th>\n",
       "      <th>InquiriesLast6Months</th>\n",
       "      <th>TotalInquiries</th>\n",
       "      <th>CurrentDelinquencies</th>\n",
       "      <th>AmountDelinquent</th>\n",
       "      <th>DelinquenciesLast7Years</th>\n",
       "      <th>PublicRecordsLast10Years</th>\n",
       "      <th>PublicRecordsLast12Months</th>\n",
       "      <th>RevolvingCreditBalance</th>\n",
       "      <th>BankcardUtilization</th>\n",
       "      <th>AvailableBankcardCredit</th>\n",
       "      <th>TotalTrades</th>\n",
       "      <th>TradesNeverDelinquent (percentage)</th>\n",
       "      <th>TradesOpenedLast6Months</th>\n",
       "      <th>DebtToIncomeRatio</th>\n",
       "      <th>IncomeRange</th>\n",
       "      <th>IncomeVerifiable</th>\n",
       "      <th>StatedMonthlyIncome</th>\n",
       "      <th>LoanKey</th>\n",
       "      <th>LoanCurrentDaysDelinquent</th>\n",
       "      <th>LoanMonthsSinceOrigination</th>\n",
       "      <th>LoanNumber</th>\n",
       "      <th>LoanOriginalAmount</th>\n",
       "      <th>LoanOriginationDate</th>\n",
       "      <th>LoanOriginationQuarter</th>\n",
       "      <th>MemberKey</th>\n",
       "      <th>MonthlyLoanPayment</th>\n",
       "      <th>LP_CustomerPayments</th>\n",
       "      <th>LP_CustomerPrincipalPayments</th>\n",
       "      <th>LP_InterestandFees</th>\n",
       "      <th>LP_ServiceFees</th>\n",
       "      <th>LP_CollectionFees</th>\n",
       "      <th>LP_GrossPrincipalLoss</th>\n",
       "      <th>LP_NetPrincipalLoss</th>\n",
       "      <th>LP_NonPrincipalRecoverypayments</th>\n",
       "      <th>PercentFunded</th>\n",
       "      <th>Recommendations</th>\n",
       "      <th>InvestmentFromFriendsCount</th>\n",
       "      <th>InvestmentFromFriendsAmount</th>\n",
       "      <th>Investors</th>\n",
       "    </tr>\n",
       "  </thead>\n",
       "  <tbody>\n",
       "    <tr>\n",
       "      <th>15552</th>\n",
       "      <td>E03E3386260568463C7DFA6</td>\n",
       "      <td>123401</td>\n",
       "      <td>2007-04-13 23:34:40.037</td>\n",
       "      <td>36</td>\n",
       "      <td>Defaulted</td>\n",
       "      <td>0.19730</td>\n",
       "      <td>0.1900</td>\n",
       "      <td>0.1850</td>\n",
       "      <td>0.168661</td>\n",
       "      <td>0.080306</td>\n",
       "      <td>0.096068</td>\n",
       "      <td>4</td>\n",
       "      <td>C</td>\n",
       "      <td>5</td>\n",
       "      <td>0</td>\n",
       "      <td>CA</td>\n",
       "      <td>Other</td>\n",
       "      <td>Self-employed</td>\n",
       "      <td>28</td>\n",
       "      <td>True</td>\n",
       "      <td>False</td>\n",
       "      <td>2007-04-13 21:25:37.313</td>\n",
       "      <td>740</td>\n",
       "      <td>759</td>\n",
       "      <td>2001-08-17</td>\n",
       "      <td>11</td>\n",
       "      <td>11</td>\n",
       "      <td>22</td>\n",
       "      <td>4</td>\n",
       "      <td>177.0</td>\n",
       "      <td>13</td>\n",
       "      <td>39</td>\n",
       "      <td>0</td>\n",
       "      <td>0</td>\n",
       "      <td>0</td>\n",
       "      <td>0</td>\n",
       "      <td>0</td>\n",
       "      <td>12540.000000</td>\n",
       "      <td>0.850000</td>\n",
       "      <td>2093.000000</td>\n",
       "      <td>21</td>\n",
       "      <td>0.950000</td>\n",
       "      <td>4</td>\n",
       "      <td>0.21</td>\n",
       "      <td>$100,000+</td>\n",
       "      <td>True</td>\n",
       "      <td>9941.416667</td>\n",
       "      <td>2014338675646740612812F</td>\n",
       "      <td>311</td>\n",
       "      <td>83</td>\n",
       "      <td>13135</td>\n",
       "      <td>25000</td>\n",
       "      <td>2007-04-23</td>\n",
       "      <td>Q2 2007</td>\n",
       "      <td>6E843385581049518C8E9F0</td>\n",
       "      <td>916.40</td>\n",
       "      <td>9164.000</td>\n",
       "      <td>5571.51</td>\n",
       "      <td>3592.490</td>\n",
       "      <td>-94.52</td>\n",
       "      <td>0.00</td>\n",
       "      <td>19428.49</td>\n",
       "      <td>19428.49</td>\n",
       "      <td>0.0</td>\n",
       "      <td>1.0</td>\n",
       "      <td>0</td>\n",
       "      <td>0</td>\n",
       "      <td>0.0</td>\n",
       "      <td>191</td>\n",
       "    </tr>\n",
       "    <tr>\n",
       "      <th>17993</th>\n",
       "      <td>A9DB35191531487525577B9</td>\n",
       "      <td>511284</td>\n",
       "      <td>2011-06-13 20:28:51.980</td>\n",
       "      <td>36</td>\n",
       "      <td>Completed</td>\n",
       "      <td>0.30532</td>\n",
       "      <td>0.2699</td>\n",
       "      <td>0.2599</td>\n",
       "      <td>0.253400</td>\n",
       "      <td>0.112000</td>\n",
       "      <td>0.141400</td>\n",
       "      <td>3</td>\n",
       "      <td>D</td>\n",
       "      <td>6</td>\n",
       "      <td>7</td>\n",
       "      <td>FL</td>\n",
       "      <td>Computer Programmer</td>\n",
       "      <td>Employed</td>\n",
       "      <td>96</td>\n",
       "      <td>False</td>\n",
       "      <td>False</td>\n",
       "      <td>2011-06-13 20:28:43.000</td>\n",
       "      <td>660</td>\n",
       "      <td>679</td>\n",
       "      <td>1998-03-12</td>\n",
       "      <td>9</td>\n",
       "      <td>7</td>\n",
       "      <td>13</td>\n",
       "      <td>6</td>\n",
       "      <td>388.0</td>\n",
       "      <td>1</td>\n",
       "      <td>1</td>\n",
       "      <td>0</td>\n",
       "      <td>0</td>\n",
       "      <td>0</td>\n",
       "      <td>1</td>\n",
       "      <td>0</td>\n",
       "      <td>13355.000000</td>\n",
       "      <td>0.900000</td>\n",
       "      <td>1141.000000</td>\n",
       "      <td>13</td>\n",
       "      <td>1.000000</td>\n",
       "      <td>0</td>\n",
       "      <td>0.19</td>\n",
       "      <td>$75,000-99,999</td>\n",
       "      <td>True</td>\n",
       "      <td>6437.500000</td>\n",
       "      <td>995736219255362229C16B3</td>\n",
       "      <td>0</td>\n",
       "      <td>33</td>\n",
       "      <td>50477</td>\n",
       "      <td>7000</td>\n",
       "      <td>2011-06-21</td>\n",
       "      <td>Q2 2011</td>\n",
       "      <td>57FC35173224021635EB9E0</td>\n",
       "      <td>285.74</td>\n",
       "      <td>9492.620</td>\n",
       "      <td>7000.00</td>\n",
       "      <td>2492.620</td>\n",
       "      <td>-92.35</td>\n",
       "      <td>0.00</td>\n",
       "      <td>0.00</td>\n",
       "      <td>0.00</td>\n",
       "      <td>0.0</td>\n",
       "      <td>1.0</td>\n",
       "      <td>0</td>\n",
       "      <td>0</td>\n",
       "      <td>0.0</td>\n",
       "      <td>109</td>\n",
       "    </tr>\n",
       "    <tr>\n",
       "      <th>33388</th>\n",
       "      <td>2F22337561813190542641D</td>\n",
       "      <td>69575</td>\n",
       "      <td>2006-12-02 21:01:10.220</td>\n",
       "      <td>36</td>\n",
       "      <td>Completed</td>\n",
       "      <td>0.24753</td>\n",
       "      <td>0.2400</td>\n",
       "      <td>0.2250</td>\n",
       "      <td>0.168661</td>\n",
       "      <td>0.080306</td>\n",
       "      <td>0.096068</td>\n",
       "      <td>4</td>\n",
       "      <td>C</td>\n",
       "      <td>5</td>\n",
       "      <td>0</td>\n",
       "      <td>CA</td>\n",
       "      <td>Professional</td>\n",
       "      <td>Not available</td>\n",
       "      <td>96</td>\n",
       "      <td>False</td>\n",
       "      <td>True</td>\n",
       "      <td>2006-11-21 12:53:38.933</td>\n",
       "      <td>560</td>\n",
       "      <td>579</td>\n",
       "      <td>1995-08-18</td>\n",
       "      <td>10</td>\n",
       "      <td>9</td>\n",
       "      <td>51</td>\n",
       "      <td>1</td>\n",
       "      <td>0.0</td>\n",
       "      <td>8</td>\n",
       "      <td>14</td>\n",
       "      <td>19</td>\n",
       "      <td>984</td>\n",
       "      <td>26</td>\n",
       "      <td>0</td>\n",
       "      <td>0</td>\n",
       "      <td>17598.706751</td>\n",
       "      <td>0.561309</td>\n",
       "      <td>11210.225447</td>\n",
       "      <td>23</td>\n",
       "      <td>0.885897</td>\n",
       "      <td>0</td>\n",
       "      <td>0.17</td>\n",
       "      <td>Not displayed</td>\n",
       "      <td>True</td>\n",
       "      <td>4583.333333</td>\n",
       "      <td>01B23375551189419A2164D</td>\n",
       "      <td>0</td>\n",
       "      <td>87</td>\n",
       "      <td>5300</td>\n",
       "      <td>3300</td>\n",
       "      <td>2006-12-08</td>\n",
       "      <td>Q4 2006</td>\n",
       "      <td>9DC13373656256800CE3821</td>\n",
       "      <td>24.36</td>\n",
       "      <td>4688.620</td>\n",
       "      <td>3300.00</td>\n",
       "      <td>1388.620</td>\n",
       "      <td>-28.71</td>\n",
       "      <td>-39.88</td>\n",
       "      <td>0.00</td>\n",
       "      <td>0.00</td>\n",
       "      <td>0.0</td>\n",
       "      <td>1.0</td>\n",
       "      <td>0</td>\n",
       "      <td>0</td>\n",
       "      <td>0.0</td>\n",
       "      <td>33</td>\n",
       "    </tr>\n",
       "    <tr>\n",
       "      <th>47855</th>\n",
       "      <td>33793425663589312650BE4</td>\n",
       "      <td>359637</td>\n",
       "      <td>2008-06-29 21:43:53.943</td>\n",
       "      <td>36</td>\n",
       "      <td>Completed</td>\n",
       "      <td>0.37453</td>\n",
       "      <td>0.3500</td>\n",
       "      <td>0.3400</td>\n",
       "      <td>0.168661</td>\n",
       "      <td>0.080306</td>\n",
       "      <td>0.096068</td>\n",
       "      <td>4</td>\n",
       "      <td>C</td>\n",
       "      <td>5</td>\n",
       "      <td>1</td>\n",
       "      <td>AL</td>\n",
       "      <td>Realtor</td>\n",
       "      <td>Full-time</td>\n",
       "      <td>24</td>\n",
       "      <td>False</td>\n",
       "      <td>False</td>\n",
       "      <td>2008-06-29 21:43:24.347</td>\n",
       "      <td>560</td>\n",
       "      <td>579</td>\n",
       "      <td>2002-08-23</td>\n",
       "      <td>12</td>\n",
       "      <td>11</td>\n",
       "      <td>18</td>\n",
       "      <td>6</td>\n",
       "      <td>330.0</td>\n",
       "      <td>0</td>\n",
       "      <td>5</td>\n",
       "      <td>0</td>\n",
       "      <td>0</td>\n",
       "      <td>1</td>\n",
       "      <td>0</td>\n",
       "      <td>0</td>\n",
       "      <td>11771.000000</td>\n",
       "      <td>1.030000</td>\n",
       "      <td>0.000000</td>\n",
       "      <td>13</td>\n",
       "      <td>0.640000</td>\n",
       "      <td>0</td>\n",
       "      <td>0.25</td>\n",
       "      <td>$50,000-74,999</td>\n",
       "      <td>True</td>\n",
       "      <td>4333.333333</td>\n",
       "      <td>8E6A342673115687080900B</td>\n",
       "      <td>0</td>\n",
       "      <td>68</td>\n",
       "      <td>34006</td>\n",
       "      <td>3000</td>\n",
       "      <td>2008-07-11</td>\n",
       "      <td>Q3 2008</td>\n",
       "      <td>46353418445999882723038</td>\n",
       "      <td>0.00</td>\n",
       "      <td>4914.050</td>\n",
       "      <td>2879.57</td>\n",
       "      <td>2034.480</td>\n",
       "      <td>-54.63</td>\n",
       "      <td>-140.00</td>\n",
       "      <td>0.00</td>\n",
       "      <td>0.00</td>\n",
       "      <td>0.0</td>\n",
       "      <td>1.0</td>\n",
       "      <td>0</td>\n",
       "      <td>0</td>\n",
       "      <td>0.0</td>\n",
       "      <td>25</td>\n",
       "    </tr>\n",
       "    <tr>\n",
       "      <th>105269</th>\n",
       "      <td>63C23424479887915660E18</td>\n",
       "      <td>350556</td>\n",
       "      <td>2008-06-14 15:10:58.780</td>\n",
       "      <td>36</td>\n",
       "      <td>Completed</td>\n",
       "      <td>0.11898</td>\n",
       "      <td>0.1050</td>\n",
       "      <td>0.0950</td>\n",
       "      <td>0.168661</td>\n",
       "      <td>0.080306</td>\n",
       "      <td>0.096068</td>\n",
       "      <td>4</td>\n",
       "      <td>C</td>\n",
       "      <td>5</td>\n",
       "      <td>1</td>\n",
       "      <td>CA</td>\n",
       "      <td>Computer Programmer</td>\n",
       "      <td>Full-time</td>\n",
       "      <td>10</td>\n",
       "      <td>False</td>\n",
       "      <td>False</td>\n",
       "      <td>2008-06-06 20:20:28.053</td>\n",
       "      <td>680</td>\n",
       "      <td>699</td>\n",
       "      <td>1979-12-30</td>\n",
       "      <td>7</td>\n",
       "      <td>7</td>\n",
       "      <td>9</td>\n",
       "      <td>5</td>\n",
       "      <td>162.0</td>\n",
       "      <td>0</td>\n",
       "      <td>4</td>\n",
       "      <td>0</td>\n",
       "      <td>0</td>\n",
       "      <td>0</td>\n",
       "      <td>1</td>\n",
       "      <td>0</td>\n",
       "      <td>6418.000000</td>\n",
       "      <td>0.600000</td>\n",
       "      <td>4054.000000</td>\n",
       "      <td>9</td>\n",
       "      <td>1.000000</td>\n",
       "      <td>0</td>\n",
       "      <td>0.11</td>\n",
       "      <td>$75,000-99,999</td>\n",
       "      <td>True</td>\n",
       "      <td>8165.166667</td>\n",
       "      <td>C8583424770810470AEF355</td>\n",
       "      <td>0</td>\n",
       "      <td>69</td>\n",
       "      <td>33236</td>\n",
       "      <td>4350</td>\n",
       "      <td>2008-06-24</td>\n",
       "      <td>Q2 2008</td>\n",
       "      <td>D2093366297109829CACE53</td>\n",
       "      <td>141.39</td>\n",
       "      <td>5087.380</td>\n",
       "      <td>4349.99</td>\n",
       "      <td>737.390</td>\n",
       "      <td>-70.23</td>\n",
       "      <td>0.00</td>\n",
       "      <td>0.00</td>\n",
       "      <td>0.00</td>\n",
       "      <td>0.0</td>\n",
       "      <td>1.0</td>\n",
       "      <td>0</td>\n",
       "      <td>0</td>\n",
       "      <td>0.0</td>\n",
       "      <td>112</td>\n",
       "    </tr>\n",
       "    <tr>\n",
       "      <th>76451</th>\n",
       "      <td>4654360195465399757DF51</td>\n",
       "      <td>1138744</td>\n",
       "      <td>2014-01-29 20:01:32.567</td>\n",
       "      <td>60</td>\n",
       "      <td>Current</td>\n",
       "      <td>0.20040</td>\n",
       "      <td>0.1765</td>\n",
       "      <td>0.1665</td>\n",
       "      <td>0.155120</td>\n",
       "      <td>0.074900</td>\n",
       "      <td>0.080220</td>\n",
       "      <td>4</td>\n",
       "      <td>C</td>\n",
       "      <td>5</td>\n",
       "      <td>1</td>\n",
       "      <td>CA</td>\n",
       "      <td>Executive</td>\n",
       "      <td>Employed</td>\n",
       "      <td>92</td>\n",
       "      <td>False</td>\n",
       "      <td>False</td>\n",
       "      <td>2014-01-29 20:01:34.000</td>\n",
       "      <td>660</td>\n",
       "      <td>679</td>\n",
       "      <td>1999-05-13</td>\n",
       "      <td>9</td>\n",
       "      <td>7</td>\n",
       "      <td>20</td>\n",
       "      <td>7</td>\n",
       "      <td>321.0</td>\n",
       "      <td>4</td>\n",
       "      <td>5</td>\n",
       "      <td>0</td>\n",
       "      <td>0</td>\n",
       "      <td>0</td>\n",
       "      <td>0</td>\n",
       "      <td>0</td>\n",
       "      <td>8553.000000</td>\n",
       "      <td>0.460000</td>\n",
       "      <td>9345.000000</td>\n",
       "      <td>20</td>\n",
       "      <td>0.900000</td>\n",
       "      <td>2</td>\n",
       "      <td>0.07</td>\n",
       "      <td>$100,000+</td>\n",
       "      <td>True</td>\n",
       "      <td>12916.666667</td>\n",
       "      <td>D3623704491040023D1C065</td>\n",
       "      <td>0</td>\n",
       "      <td>2</td>\n",
       "      <td>129809</td>\n",
       "      <td>25000</td>\n",
       "      <td>2014-01-31</td>\n",
       "      <td>Q1 2014</td>\n",
       "      <td>C7A33704558438347C582D2</td>\n",
       "      <td>630.09</td>\n",
       "      <td>618.001</td>\n",
       "      <td>291.60</td>\n",
       "      <td>326.401</td>\n",
       "      <td>-19.18</td>\n",
       "      <td>0.00</td>\n",
       "      <td>0.00</td>\n",
       "      <td>0.00</td>\n",
       "      <td>0.0</td>\n",
       "      <td>1.0</td>\n",
       "      <td>0</td>\n",
       "      <td>0</td>\n",
       "      <td>0.0</td>\n",
       "      <td>1</td>\n",
       "    </tr>\n",
       "    <tr>\n",
       "      <th>38419</th>\n",
       "      <td>58B73572400407359B85CC8</td>\n",
       "      <td>728224</td>\n",
       "      <td>2013-03-13 12:59:36.833</td>\n",
       "      <td>60</td>\n",
       "      <td>Current</td>\n",
       "      <td>0.23052</td>\n",
       "      <td>0.2059</td>\n",
       "      <td>0.1959</td>\n",
       "      <td>0.182900</td>\n",
       "      <td>0.072400</td>\n",
       "      <td>0.110500</td>\n",
       "      <td>4</td>\n",
       "      <td>C</td>\n",
       "      <td>5</td>\n",
       "      <td>1</td>\n",
       "      <td>MN</td>\n",
       "      <td>Postal Service</td>\n",
       "      <td>Employed</td>\n",
       "      <td>171</td>\n",
       "      <td>True</td>\n",
       "      <td>False</td>\n",
       "      <td>2013-03-13 12:59:35.000</td>\n",
       "      <td>660</td>\n",
       "      <td>679</td>\n",
       "      <td>1995-04-22</td>\n",
       "      <td>9</td>\n",
       "      <td>8</td>\n",
       "      <td>25</td>\n",
       "      <td>6</td>\n",
       "      <td>432.0</td>\n",
       "      <td>0</td>\n",
       "      <td>1</td>\n",
       "      <td>0</td>\n",
       "      <td>0</td>\n",
       "      <td>0</td>\n",
       "      <td>0</td>\n",
       "      <td>0</td>\n",
       "      <td>13126.000000</td>\n",
       "      <td>0.930000</td>\n",
       "      <td>564.000000</td>\n",
       "      <td>24</td>\n",
       "      <td>1.000000</td>\n",
       "      <td>2</td>\n",
       "      <td>0.18</td>\n",
       "      <td>$75,000-99,999</td>\n",
       "      <td>True</td>\n",
       "      <td>7416.666667</td>\n",
       "      <td>3E123676482792876577C7B</td>\n",
       "      <td>0</td>\n",
       "      <td>12</td>\n",
       "      <td>86845</td>\n",
       "      <td>10000</td>\n",
       "      <td>2013-03-20</td>\n",
       "      <td>Q1 2013</td>\n",
       "      <td>EC533572606567142BEFAD6</td>\n",
       "      <td>268.23</td>\n",
       "      <td>2950.530</td>\n",
       "      <td>1145.37</td>\n",
       "      <td>1805.160</td>\n",
       "      <td>-87.67</td>\n",
       "      <td>0.00</td>\n",
       "      <td>0.00</td>\n",
       "      <td>0.00</td>\n",
       "      <td>0.0</td>\n",
       "      <td>1.0</td>\n",
       "      <td>0</td>\n",
       "      <td>0</td>\n",
       "      <td>0.0</td>\n",
       "      <td>95</td>\n",
       "    </tr>\n",
       "    <tr>\n",
       "      <th>66837</th>\n",
       "      <td>F7A333889810927361CB8D2</td>\n",
       "      <td>140708</td>\n",
       "      <td>2007-05-21 10:35:52.057</td>\n",
       "      <td>36</td>\n",
       "      <td>Defaulted</td>\n",
       "      <td>0.28269</td>\n",
       "      <td>0.2750</td>\n",
       "      <td>0.2650</td>\n",
       "      <td>0.168661</td>\n",
       "      <td>0.080306</td>\n",
       "      <td>0.096068</td>\n",
       "      <td>4</td>\n",
       "      <td>C</td>\n",
       "      <td>5</td>\n",
       "      <td>0</td>\n",
       "      <td>OR</td>\n",
       "      <td>Sales - Commission</td>\n",
       "      <td>Full-time</td>\n",
       "      <td>50</td>\n",
       "      <td>False</td>\n",
       "      <td>True</td>\n",
       "      <td>2007-05-08 10:05:46.983</td>\n",
       "      <td>600</td>\n",
       "      <td>619</td>\n",
       "      <td>2000-10-13</td>\n",
       "      <td>3</td>\n",
       "      <td>3</td>\n",
       "      <td>11</td>\n",
       "      <td>3</td>\n",
       "      <td>10.0</td>\n",
       "      <td>4</td>\n",
       "      <td>9</td>\n",
       "      <td>5</td>\n",
       "      <td>9156</td>\n",
       "      <td>30</td>\n",
       "      <td>1</td>\n",
       "      <td>1</td>\n",
       "      <td>811.000000</td>\n",
       "      <td>0.030000</td>\n",
       "      <td>20689.000000</td>\n",
       "      <td>11</td>\n",
       "      <td>0.450000</td>\n",
       "      <td>1</td>\n",
       "      <td>0.08</td>\n",
       "      <td>$100,000+</td>\n",
       "      <td>True</td>\n",
       "      <td>4111.416667</td>\n",
       "      <td>5DC53390218853294B7F6AE</td>\n",
       "      <td>153</td>\n",
       "      <td>82</td>\n",
       "      <td>15381</td>\n",
       "      <td>9500</td>\n",
       "      <td>2007-05-25</td>\n",
       "      <td>Q2 2007</td>\n",
       "      <td>B204338297490459932A8A9</td>\n",
       "      <td>390.39</td>\n",
       "      <td>390.390</td>\n",
       "      <td>168.51</td>\n",
       "      <td>221.880</td>\n",
       "      <td>-8.07</td>\n",
       "      <td>0.00</td>\n",
       "      <td>9331.49</td>\n",
       "      <td>9331.49</td>\n",
       "      <td>0.0</td>\n",
       "      <td>1.0</td>\n",
       "      <td>0</td>\n",
       "      <td>0</td>\n",
       "      <td>0.0</td>\n",
       "      <td>94</td>\n",
       "    </tr>\n",
       "    <tr>\n",
       "      <th>15076</th>\n",
       "      <td>AD903427652940211DD0D17</td>\n",
       "      <td>378167</td>\n",
       "      <td>2008-08-05 09:58:49.810</td>\n",
       "      <td>36</td>\n",
       "      <td>Completed</td>\n",
       "      <td>0.21223</td>\n",
       "      <td>0.1900</td>\n",
       "      <td>0.1800</td>\n",
       "      <td>0.168661</td>\n",
       "      <td>0.080306</td>\n",
       "      <td>0.096068</td>\n",
       "      <td>4</td>\n",
       "      <td>C</td>\n",
       "      <td>5</td>\n",
       "      <td>7</td>\n",
       "      <td>AR</td>\n",
       "      <td>Military Enlisted</td>\n",
       "      <td>Full-time</td>\n",
       "      <td>251</td>\n",
       "      <td>True</td>\n",
       "      <td>False</td>\n",
       "      <td>2008-08-05 09:57:05.543</td>\n",
       "      <td>640</td>\n",
       "      <td>659</td>\n",
       "      <td>1991-12-02</td>\n",
       "      <td>13</td>\n",
       "      <td>9</td>\n",
       "      <td>24</td>\n",
       "      <td>7</td>\n",
       "      <td>318.0</td>\n",
       "      <td>2</td>\n",
       "      <td>9</td>\n",
       "      <td>6</td>\n",
       "      <td>0</td>\n",
       "      <td>0</td>\n",
       "      <td>3</td>\n",
       "      <td>0</td>\n",
       "      <td>31347.000000</td>\n",
       "      <td>0.000000</td>\n",
       "      <td>5300.000000</td>\n",
       "      <td>24</td>\n",
       "      <td>0.750000</td>\n",
       "      <td>3</td>\n",
       "      <td>0.11</td>\n",
       "      <td>$50,000-74,999</td>\n",
       "      <td>True</td>\n",
       "      <td>5033.000000</td>\n",
       "      <td>957B34287733429765B0EDF</td>\n",
       "      <td>0</td>\n",
       "      <td>67</td>\n",
       "      <td>35448</td>\n",
       "      <td>3000</td>\n",
       "      <td>2008-08-14</td>\n",
       "      <td>Q3 2008</td>\n",
       "      <td>1042337241348443150CF53</td>\n",
       "      <td>109.97</td>\n",
       "      <td>3266.050</td>\n",
       "      <td>3000.00</td>\n",
       "      <td>266.050</td>\n",
       "      <td>-14.00</td>\n",
       "      <td>0.00</td>\n",
       "      <td>0.00</td>\n",
       "      <td>0.00</td>\n",
       "      <td>0.0</td>\n",
       "      <td>1.0</td>\n",
       "      <td>1</td>\n",
       "      <td>0</td>\n",
       "      <td>0.0</td>\n",
       "      <td>95</td>\n",
       "    </tr>\n",
       "    <tr>\n",
       "      <th>514</th>\n",
       "      <td>00A53585009591879980184</td>\n",
       "      <td>848067</td>\n",
       "      <td>2013-07-23 10:33:48.463</td>\n",
       "      <td>36</td>\n",
       "      <td>Current</td>\n",
       "      <td>0.13697</td>\n",
       "      <td>0.1089</td>\n",
       "      <td>0.0989</td>\n",
       "      <td>0.095600</td>\n",
       "      <td>0.029900</td>\n",
       "      <td>0.065700</td>\n",
       "      <td>6</td>\n",
       "      <td>A</td>\n",
       "      <td>8</td>\n",
       "      <td>1</td>\n",
       "      <td>NY</td>\n",
       "      <td>Professional</td>\n",
       "      <td>Employed</td>\n",
       "      <td>38</td>\n",
       "      <td>False</td>\n",
       "      <td>False</td>\n",
       "      <td>2013-07-23 10:33:36.000</td>\n",
       "      <td>720</td>\n",
       "      <td>739</td>\n",
       "      <td>1998-06-14</td>\n",
       "      <td>6</td>\n",
       "      <td>6</td>\n",
       "      <td>20</td>\n",
       "      <td>5</td>\n",
       "      <td>273.0</td>\n",
       "      <td>0</td>\n",
       "      <td>2</td>\n",
       "      <td>0</td>\n",
       "      <td>0</td>\n",
       "      <td>0</td>\n",
       "      <td>0</td>\n",
       "      <td>0</td>\n",
       "      <td>5229.000000</td>\n",
       "      <td>0.300000</td>\n",
       "      <td>10735.000000</td>\n",
       "      <td>12</td>\n",
       "      <td>1.000000</td>\n",
       "      <td>0</td>\n",
       "      <td>0.10</td>\n",
       "      <td>$50,000-74,999</td>\n",
       "      <td>True</td>\n",
       "      <td>5833.333333</td>\n",
       "      <td>269B3689505442530A7D065</td>\n",
       "      <td>0</td>\n",
       "      <td>8</td>\n",
       "      <td>97171</td>\n",
       "      <td>5000</td>\n",
       "      <td>2013-07-26</td>\n",
       "      <td>Q3 2013</td>\n",
       "      <td>EA443549821935413BDDF18</td>\n",
       "      <td>163.43</td>\n",
       "      <td>1144.010</td>\n",
       "      <td>846.25</td>\n",
       "      <td>297.760</td>\n",
       "      <td>-27.35</td>\n",
       "      <td>0.00</td>\n",
       "      <td>0.00</td>\n",
       "      <td>0.00</td>\n",
       "      <td>0.0</td>\n",
       "      <td>1.0</td>\n",
       "      <td>0</td>\n",
       "      <td>0</td>\n",
       "      <td>0.0</td>\n",
       "      <td>90</td>\n",
       "    </tr>\n",
       "  </tbody>\n",
       "</table>\n",
       "</div>"
      ],
      "text/plain": [
       "                     ListingKey  ListingNumber     ListingCreationDate  Term  \\\n",
       "15552   E03E3386260568463C7DFA6         123401 2007-04-13 23:34:40.037    36   \n",
       "17993   A9DB35191531487525577B9         511284 2011-06-13 20:28:51.980    36   \n",
       "33388   2F22337561813190542641D          69575 2006-12-02 21:01:10.220    36   \n",
       "47855   33793425663589312650BE4         359637 2008-06-29 21:43:53.943    36   \n",
       "105269  63C23424479887915660E18         350556 2008-06-14 15:10:58.780    36   \n",
       "76451   4654360195465399757DF51        1138744 2014-01-29 20:01:32.567    60   \n",
       "38419   58B73572400407359B85CC8         728224 2013-03-13 12:59:36.833    60   \n",
       "66837   F7A333889810927361CB8D2         140708 2007-05-21 10:35:52.057    36   \n",
       "15076   AD903427652940211DD0D17         378167 2008-08-05 09:58:49.810    36   \n",
       "514     00A53585009591879980184         848067 2013-07-23 10:33:48.463    36   \n",
       "\n",
       "       LoanStatus  BorrowerAPR  BorrowerRate  LenderYield  \\\n",
       "15552   Defaulted      0.19730        0.1900       0.1850   \n",
       "17993   Completed      0.30532        0.2699       0.2599   \n",
       "33388   Completed      0.24753        0.2400       0.2250   \n",
       "47855   Completed      0.37453        0.3500       0.3400   \n",
       "105269  Completed      0.11898        0.1050       0.0950   \n",
       "76451     Current      0.20040        0.1765       0.1665   \n",
       "38419     Current      0.23052        0.2059       0.1959   \n",
       "66837   Defaulted      0.28269        0.2750       0.2650   \n",
       "15076   Completed      0.21223        0.1900       0.1800   \n",
       "514       Current      0.13697        0.1089       0.0989   \n",
       "\n",
       "        EstimatedEffectiveYield  EstimatedLoss  EstimatedReturn  \\\n",
       "15552                  0.168661       0.080306         0.096068   \n",
       "17993                  0.253400       0.112000         0.141400   \n",
       "33388                  0.168661       0.080306         0.096068   \n",
       "47855                  0.168661       0.080306         0.096068   \n",
       "105269                 0.168661       0.080306         0.096068   \n",
       "76451                  0.155120       0.074900         0.080220   \n",
       "38419                  0.182900       0.072400         0.110500   \n",
       "66837                  0.168661       0.080306         0.096068   \n",
       "15076                  0.168661       0.080306         0.096068   \n",
       "514                    0.095600       0.029900         0.065700   \n",
       "\n",
       "       ProsperRating (numeric) ProsperRating (Alpha) ProsperScore  \\\n",
       "15552                        4                     C            5   \n",
       "17993                        3                     D            6   \n",
       "33388                        4                     C            5   \n",
       "47855                        4                     C            5   \n",
       "105269                       4                     C            5   \n",
       "76451                        4                     C            5   \n",
       "38419                        4                     C            5   \n",
       "66837                        4                     C            5   \n",
       "15076                        4                     C            5   \n",
       "514                          6                     A            8   \n",
       "\n",
       "       ListingCategory (numeric) BorrowerState           Occupation  \\\n",
       "15552                          0            CA                Other   \n",
       "17993                          7            FL  Computer Programmer   \n",
       "33388                          0            CA         Professional   \n",
       "47855                          1            AL              Realtor   \n",
       "105269                         1            CA  Computer Programmer   \n",
       "76451                          1            CA            Executive   \n",
       "38419                          1            MN       Postal Service   \n",
       "66837                          0            OR   Sales - Commission   \n",
       "15076                          7            AR    Military Enlisted   \n",
       "514                            1            NY         Professional   \n",
       "\n",
       "       EmploymentStatus  EmploymentStatusDuration  IsBorrowerHomeowner  \\\n",
       "15552     Self-employed                        28                 True   \n",
       "17993          Employed                        96                False   \n",
       "33388     Not available                        96                False   \n",
       "47855         Full-time                        24                False   \n",
       "105269        Full-time                        10                False   \n",
       "76451          Employed                        92                False   \n",
       "38419          Employed                       171                 True   \n",
       "66837         Full-time                        50                False   \n",
       "15076         Full-time                       251                 True   \n",
       "514            Employed                        38                False   \n",
       "\n",
       "        CurrentlyInGroup        DateCreditPulled  CreditScoreRangeLower  \\\n",
       "15552              False 2007-04-13 21:25:37.313                    740   \n",
       "17993              False 2011-06-13 20:28:43.000                    660   \n",
       "33388               True 2006-11-21 12:53:38.933                    560   \n",
       "47855              False 2008-06-29 21:43:24.347                    560   \n",
       "105269             False 2008-06-06 20:20:28.053                    680   \n",
       "76451              False 2014-01-29 20:01:34.000                    660   \n",
       "38419              False 2013-03-13 12:59:35.000                    660   \n",
       "66837               True 2007-05-08 10:05:46.983                    600   \n",
       "15076              False 2008-08-05 09:57:05.543                    640   \n",
       "514                False 2013-07-23 10:33:36.000                    720   \n",
       "\n",
       "        CreditScoreRangeUpper FirstRecordedCreditLine  CurrentCreditLines  \\\n",
       "15552                     759              2001-08-17                  11   \n",
       "17993                     679              1998-03-12                   9   \n",
       "33388                     579              1995-08-18                  10   \n",
       "47855                     579              2002-08-23                  12   \n",
       "105269                    699              1979-12-30                   7   \n",
       "76451                     679              1999-05-13                   9   \n",
       "38419                     679              1995-04-22                   9   \n",
       "66837                     619              2000-10-13                   3   \n",
       "15076                     659              1991-12-02                  13   \n",
       "514                       739              1998-06-14                   6   \n",
       "\n",
       "        OpenCreditLines  TotalCreditLinespast7years  OpenRevolvingAccounts  \\\n",
       "15552                11                          22                      4   \n",
       "17993                 7                          13                      6   \n",
       "33388                 9                          51                      1   \n",
       "47855                11                          18                      6   \n",
       "105269                7                           9                      5   \n",
       "76451                 7                          20                      7   \n",
       "38419                 8                          25                      6   \n",
       "66837                 3                          11                      3   \n",
       "15076                 9                          24                      7   \n",
       "514                   6                          20                      5   \n",
       "\n",
       "        OpenRevolvingMonthlyPayment  InquiriesLast6Months  TotalInquiries  \\\n",
       "15552                         177.0                    13              39   \n",
       "17993                         388.0                     1               1   \n",
       "33388                           0.0                     8              14   \n",
       "47855                         330.0                     0               5   \n",
       "105269                        162.0                     0               4   \n",
       "76451                         321.0                     4               5   \n",
       "38419                         432.0                     0               1   \n",
       "66837                          10.0                     4               9   \n",
       "15076                         318.0                     2               9   \n",
       "514                           273.0                     0               2   \n",
       "\n",
       "        CurrentDelinquencies  AmountDelinquent  DelinquenciesLast7Years  \\\n",
       "15552                      0                 0                        0   \n",
       "17993                      0                 0                        0   \n",
       "33388                     19               984                       26   \n",
       "47855                      0                 0                        1   \n",
       "105269                     0                 0                        0   \n",
       "76451                      0                 0                        0   \n",
       "38419                      0                 0                        0   \n",
       "66837                      5              9156                       30   \n",
       "15076                      6                 0                        0   \n",
       "514                        0                 0                        0   \n",
       "\n",
       "        PublicRecordsLast10Years  PublicRecordsLast12Months  \\\n",
       "15552                          0                          0   \n",
       "17993                          1                          0   \n",
       "33388                          0                          0   \n",
       "47855                          0                          0   \n",
       "105269                         1                          0   \n",
       "76451                          0                          0   \n",
       "38419                          0                          0   \n",
       "66837                          1                          1   \n",
       "15076                          3                          0   \n",
       "514                            0                          0   \n",
       "\n",
       "        RevolvingCreditBalance  BankcardUtilization  AvailableBankcardCredit  \\\n",
       "15552             12540.000000             0.850000              2093.000000   \n",
       "17993             13355.000000             0.900000              1141.000000   \n",
       "33388             17598.706751             0.561309             11210.225447   \n",
       "47855             11771.000000             1.030000                 0.000000   \n",
       "105269             6418.000000             0.600000              4054.000000   \n",
       "76451              8553.000000             0.460000              9345.000000   \n",
       "38419             13126.000000             0.930000               564.000000   \n",
       "66837               811.000000             0.030000             20689.000000   \n",
       "15076             31347.000000             0.000000              5300.000000   \n",
       "514                5229.000000             0.300000             10735.000000   \n",
       "\n",
       "        TotalTrades  TradesNeverDelinquent (percentage)  \\\n",
       "15552            21                            0.950000   \n",
       "17993            13                            1.000000   \n",
       "33388            23                            0.885897   \n",
       "47855            13                            0.640000   \n",
       "105269            9                            1.000000   \n",
       "76451            20                            0.900000   \n",
       "38419            24                            1.000000   \n",
       "66837            11                            0.450000   \n",
       "15076            24                            0.750000   \n",
       "514              12                            1.000000   \n",
       "\n",
       "        TradesOpenedLast6Months  DebtToIncomeRatio     IncomeRange  \\\n",
       "15552                         4               0.21       $100,000+   \n",
       "17993                         0               0.19  $75,000-99,999   \n",
       "33388                         0               0.17   Not displayed   \n",
       "47855                         0               0.25  $50,000-74,999   \n",
       "105269                        0               0.11  $75,000-99,999   \n",
       "76451                         2               0.07       $100,000+   \n",
       "38419                         2               0.18  $75,000-99,999   \n",
       "66837                         1               0.08       $100,000+   \n",
       "15076                         3               0.11  $50,000-74,999   \n",
       "514                           0               0.10  $50,000-74,999   \n",
       "\n",
       "        IncomeVerifiable  StatedMonthlyIncome                  LoanKey  \\\n",
       "15552               True          9941.416667  2014338675646740612812F   \n",
       "17993               True          6437.500000  995736219255362229C16B3   \n",
       "33388               True          4583.333333  01B23375551189419A2164D   \n",
       "47855               True          4333.333333  8E6A342673115687080900B   \n",
       "105269              True          8165.166667  C8583424770810470AEF355   \n",
       "76451               True         12916.666667  D3623704491040023D1C065   \n",
       "38419               True          7416.666667  3E123676482792876577C7B   \n",
       "66837               True          4111.416667  5DC53390218853294B7F6AE   \n",
       "15076               True          5033.000000  957B34287733429765B0EDF   \n",
       "514                 True          5833.333333  269B3689505442530A7D065   \n",
       "\n",
       "        LoanCurrentDaysDelinquent  LoanMonthsSinceOrigination LoanNumber  \\\n",
       "15552                         311                          83      13135   \n",
       "17993                           0                          33      50477   \n",
       "33388                           0                          87       5300   \n",
       "47855                           0                          68      34006   \n",
       "105269                          0                          69      33236   \n",
       "76451                           0                           2     129809   \n",
       "38419                           0                          12      86845   \n",
       "66837                         153                          82      15381   \n",
       "15076                           0                          67      35448   \n",
       "514                             0                           8      97171   \n",
       "\n",
       "        LoanOriginalAmount LoanOriginationDate LoanOriginationQuarter  \\\n",
       "15552                25000          2007-04-23                Q2 2007   \n",
       "17993                 7000          2011-06-21                Q2 2011   \n",
       "33388                 3300          2006-12-08                Q4 2006   \n",
       "47855                 3000          2008-07-11                Q3 2008   \n",
       "105269                4350          2008-06-24                Q2 2008   \n",
       "76451                25000          2014-01-31                Q1 2014   \n",
       "38419                10000          2013-03-20                Q1 2013   \n",
       "66837                 9500          2007-05-25                Q2 2007   \n",
       "15076                 3000          2008-08-14                Q3 2008   \n",
       "514                   5000          2013-07-26                Q3 2013   \n",
       "\n",
       "                      MemberKey  MonthlyLoanPayment  LP_CustomerPayments  \\\n",
       "15552   6E843385581049518C8E9F0              916.40             9164.000   \n",
       "17993   57FC35173224021635EB9E0              285.74             9492.620   \n",
       "33388   9DC13373656256800CE3821               24.36             4688.620   \n",
       "47855   46353418445999882723038                0.00             4914.050   \n",
       "105269  D2093366297109829CACE53              141.39             5087.380   \n",
       "76451   C7A33704558438347C582D2              630.09              618.001   \n",
       "38419   EC533572606567142BEFAD6              268.23             2950.530   \n",
       "66837   B204338297490459932A8A9              390.39              390.390   \n",
       "15076   1042337241348443150CF53              109.97             3266.050   \n",
       "514     EA443549821935413BDDF18              163.43             1144.010   \n",
       "\n",
       "        LP_CustomerPrincipalPayments  LP_InterestandFees  LP_ServiceFees  \\\n",
       "15552                        5571.51            3592.490          -94.52   \n",
       "17993                        7000.00            2492.620          -92.35   \n",
       "33388                        3300.00            1388.620          -28.71   \n",
       "47855                        2879.57            2034.480          -54.63   \n",
       "105269                       4349.99             737.390          -70.23   \n",
       "76451                         291.60             326.401          -19.18   \n",
       "38419                        1145.37            1805.160          -87.67   \n",
       "66837                         168.51             221.880           -8.07   \n",
       "15076                        3000.00             266.050          -14.00   \n",
       "514                           846.25             297.760          -27.35   \n",
       "\n",
       "        LP_CollectionFees  LP_GrossPrincipalLoss  LP_NetPrincipalLoss  \\\n",
       "15552                0.00               19428.49             19428.49   \n",
       "17993                0.00                   0.00                 0.00   \n",
       "33388              -39.88                   0.00                 0.00   \n",
       "47855             -140.00                   0.00                 0.00   \n",
       "105269               0.00                   0.00                 0.00   \n",
       "76451                0.00                   0.00                 0.00   \n",
       "38419                0.00                   0.00                 0.00   \n",
       "66837                0.00                9331.49              9331.49   \n",
       "15076                0.00                   0.00                 0.00   \n",
       "514                  0.00                   0.00                 0.00   \n",
       "\n",
       "        LP_NonPrincipalRecoverypayments  PercentFunded  Recommendations  \\\n",
       "15552                               0.0            1.0                0   \n",
       "17993                               0.0            1.0                0   \n",
       "33388                               0.0            1.0                0   \n",
       "47855                               0.0            1.0                0   \n",
       "105269                              0.0            1.0                0   \n",
       "76451                               0.0            1.0                0   \n",
       "38419                               0.0            1.0                0   \n",
       "66837                               0.0            1.0                0   \n",
       "15076                               0.0            1.0                1   \n",
       "514                                 0.0            1.0                0   \n",
       "\n",
       "        InvestmentFromFriendsCount  InvestmentFromFriendsAmount  Investors  \n",
       "15552                            0                          0.0        191  \n",
       "17993                            0                          0.0        109  \n",
       "33388                            0                          0.0         33  \n",
       "47855                            0                          0.0         25  \n",
       "105269                           0                          0.0        112  \n",
       "76451                            0                          0.0          1  \n",
       "38419                            0                          0.0         95  \n",
       "66837                            0                          0.0         94  \n",
       "15076                            0                          0.0         95  \n",
       "514                              0                          0.0         90  "
      ]
     },
     "execution_count": 22,
     "metadata": {},
     "output_type": "execute_result"
    }
   ],
   "source": [
    "pd.set_option('display.max_columns', None)\n",
    "data.sample(10)"
   ]
  },
  {
   "cell_type": "code",
   "execution_count": 23,
   "metadata": {},
   "outputs": [
    {
     "data": {
      "text/plain": [
       "0"
      ]
     },
     "execution_count": 23,
     "metadata": {},
     "output_type": "execute_result"
    }
   ],
   "source": [
    "data.duplicated().sum()"
   ]
  },
  {
   "cell_type": "markdown",
   "metadata": {},
   "source": [
    "<a id='storing'></a>\n",
    "### Storing Data"
   ]
  },
  {
   "cell_type": "code",
   "execution_count": 24,
   "metadata": {},
   "outputs": [],
   "source": [
    "data.to_csv(\"loan_data_enhanced.csv\", index = False)"
   ]
  },
  {
   "cell_type": "markdown",
   "metadata": {},
   "source": [
    "<a id='analysis'></a>\n",
    "## Exploring and Visualizing Data"
   ]
  },
  {
   "cell_type": "markdown",
   "metadata": {},
   "source": [
    "### What is the structure of your dataset?\n",
    "\n",
    "> The dataset has 113937 observations of 81 variables. Data types including  ‘object’, ‘int’, and ‘float’. After exploring the dataset the date related columns datatype was changed to datetime and the other columns with wrong datatypes were also converted. Coluns with extreme null values were also dropped. Variables are about loan information and  borrower information.\n",
    "\n",
    "### What is/are the main feature(s) of interest in your dataset?\n",
    "\n",
    "> - BorrowerAPR\n",
    "> - BorrowerRate\n",
    "> - ProsperRating (numeric)\n",
    "> - ProsperRating (Alpha)\n",
    "> - ProsperScore\n",
    "\n",
    "### What features in the dataset do you think will help support your investigation into your feature(s) of interest?\n",
    "\n",
    "> - EmploymentStatus\n",
    "> - IncomeVerifiable\n",
    "> - LoanOriginalAmount\n",
    "> - TotalTrades\n",
    "> - MonthlyLoanPayment"
   ]
  },
  {
   "cell_type": "markdown",
   "metadata": {},
   "source": [
    "<a id='univariate'></a>\n",
    "### Univariate Exploration\n"
   ]
  },
  {
   "cell_type": "markdown",
   "metadata": {},
   "source": [
    "#### Distribution of BorrowerAPR"
   ]
  },
  {
   "cell_type": "code",
   "execution_count": 25,
   "metadata": {
    "scrolled": false
   },
   "outputs": [
    {
     "data": {
      "image/png": "[encoded data removed]",
      "text/plain": [
       "<Figure size 576x360 with 1 Axes>"
      ]
     },
     "metadata": {
      "needs_background": "light"
     },
     "output_type": "display_data"
    }
   ],
   "source": [
    "plt.figure(figsize = [8,5])\n",
    "bins = np.arange(0, data[\"BorrowerAPR\"].max() + 0.01, 0.01)\n",
    "plt.hist(data = data, x = \"BorrowerAPR\", bins = bins)\n",
    "plt.title('Distribution of BorrowerAPR')\n",
    "plt.xlabel('BorrowerAPR')\n",
    "plt.ylabel('Counts');"
   ]
  },
  {
   "cell_type": "markdown",
   "metadata": {},
   "source": [
    ">  The distribution has a spike between 0.3 and 0.4 and its slightly skewed to the right"
   ]
  },
  {
   "cell_type": "markdown",
   "metadata": {},
   "source": [
    "#### Distribution of BorrowerRate"
   ]
  },
  {
   "cell_type": "code",
   "execution_count": 26,
   "metadata": {
    "scrolled": true
   },
   "outputs": [
    {
     "data": {
      "image/png": "[encoded data removed]",
      "text/plain": [
       "<Figure size 576x360 with 1 Axes>"
      ]
     },
     "metadata": {
      "needs_background": "light"
     },
     "output_type": "display_data"
    }
   ],
   "source": [
    "plt.figure(figsize = [8,5])\n",
    "bins = np.arange(0, data[\"BorrowerRate\"].max() + 0.01, 0.01)\n",
    "plt.hist(data = data, x = \"BorrowerRate\", bins = bins)\n",
    "plt.title('Distribution of BorrowerRate')\n",
    "plt.xlabel('BorrowerRate')\n",
    "plt.ylabel('Counts');"
   ]
  },
  {
   "cell_type": "markdown",
   "metadata": {},
   "source": [
    "> The distribution has a spike around 0.31 and its slightly skewed to the right"
   ]
  },
  {
   "cell_type": "markdown",
   "metadata": {},
   "source": [
    "The **BorrowerRate** (interest rate) refers to the annual cost of a loan to  a borrower and is expressed as a percentage. The interest rate does not  include fees charged for the loan. \n",
    "\n",
    "The **BorrowerAPR** is the annual cost of a loan to a borrower. Unlike an interest rate, it includes other charges or fees (such as mortgage  insurance, most closing costs, discount points and loan origination  fees) to reflect the total cost of the loan.\n",
    "\n",
    "According to above definitions by [Bank of America](https://www.bankofamerica.com/mortgage/learn/apr-vs-interest-rate/),  the distribution of BorrowerAPR and BorrowerRate should be similar with  slight difference since the APR is always higher than the interest rate."
   ]
  },
  {
   "cell_type": "markdown",
   "metadata": {},
   "source": [
    "#### Distribution of ProsperRating(Numeric)"
   ]
  },
  {
   "cell_type": "code",
   "execution_count": 27,
   "metadata": {
    "scrolled": false
   },
   "outputs": [
    {
     "data": {
      "image/png": "[encoded data removed]",
      "text/plain": [
       "<Figure size 864x432 with 1 Axes>"
      ]
     },
     "metadata": {
      "needs_background": "light"
     },
     "output_type": "display_data"
    }
   ],
   "source": [
    "plt.figure(figsize = (12, 6))\n",
    "sb.countplot(data = data, x = \"ProsperRating (numeric)\", color = sb.color_palette()[3])\n",
    "\n",
    "plt.title(\"Distribution of Numeric Prosper Rating\")\n",
    "plt.xlabel(\"Prosper Rating (Numeric)\")\n",
    "plt.ylabel(\"Frequency\")\n",
    "\n",
    "plt.show()"
   ]
  },
  {
   "cell_type": "code",
   "execution_count": 28,
   "metadata": {},
   "outputs": [],
   "source": [
    "order = [\"HR\", \"E\", \"D\", \"C\", \"B\", \"A\", \"AA\"]\n",
    "\n",
    "# For reproducability\n",
    "pd_ver = pd.__version__.split(\".\")\n",
    "\n",
    "if (int(pd_ver[0]) > 0) or (int(pd_ver[1]) >= 21):\n",
    "    rating = pd.api.types.CategoricalDtype(ordered = True, categories = order)\n",
    "    data[\"ProsperRating (Alpha)\"] = data[\"ProsperRating (Alpha)\"].astype(rating)\n",
    "else:\n",
    "    data[\"ProsperRating (Alpha)\"] = data[\"ProsperRating (Alpha)\"].astype(\"category\", ordered = True, categories = order)"
   ]
  },
  {
   "cell_type": "markdown",
   "metadata": {},
   "source": [
    "#### Distribution of ProsperRating (Alpha)"
   ]
  },
  {
   "cell_type": "code",
   "execution_count": 29,
   "metadata": {
    "scrolled": false
   },
   "outputs": [
    {
     "data": {
      "image/png": "[encoded data removed]",
      "text/plain": [
       "<Figure size 864x432 with 1 Axes>"
      ]
     },
     "metadata": {
      "needs_background": "light"
     },
     "output_type": "display_data"
    }
   ],
   "source": [
    "plt.figure(figsize = (12, 6))\n",
    "sb.countplot(data = data, x = \"ProsperRating (Alpha)\", color = sb.color_palette()[2])\n",
    "\n",
    "plt.title(\"Distribution of Alpha Prosper Rating\")\n",
    "plt.xlabel(\"Prosper Rating (Alpha)\")\n",
    "plt.ylabel(\"Frequency\")\n",
    "\n",
    "plt.show()"
   ]
  },
  {
   "cell_type": "markdown",
   "metadata": {},
   "source": [
    "> The **Prosper Rating (Alpha)** and **Prosper Rating (Numeric)** are identical, the alpha column is just a alphabetic representation of the numeric column. Rating 4 has the highest frequency. The rating was increasing till it got to 4 then it also steadily decreased from 4"
   ]
  },
  {
   "cell_type": "markdown",
   "metadata": {},
   "source": [
    "#### Distribution of ProsperScore"
   ]
  },
  {
   "cell_type": "code",
   "execution_count": 30,
   "metadata": {
    "scrolled": false
   },
   "outputs": [
    {
     "data": {
      "image/png": "[encoded data removed]",
      "text/plain": [
       "<Figure size 864x432 with 1 Axes>"
      ]
     },
     "metadata": {
      "needs_background": "light"
     },
     "output_type": "display_data"
    }
   ],
   "source": [
    "plt.figure(figsize = (12, 6))\n",
    "sb.countplot(data = data, x = \"ProsperScore\", color = sb.color_palette()[4])\n",
    "\n",
    "plt.title(\"Distribution of Prosper Score\")\n",
    "plt.xlabel(\"Prosper Score\")\n",
    "plt.ylabel(\"Counts\")\n",
    "\n",
    "plt.show()"
   ]
  },
  {
   "cell_type": "markdown",
   "metadata": {},
   "source": [
    "> The **Prosper Score** has a distribution identical to the Prosper Rating in the way it increases to the modal value and decreases after the modal value."
   ]
  },
  {
   "cell_type": "markdown",
   "metadata": {},
   "source": [
    "#### Distribution of Employment Status"
   ]
  },
  {
   "cell_type": "code",
   "execution_count": 31,
   "metadata": {},
   "outputs": [],
   "source": [
    "order = data[\"EmploymentStatus\"].value_counts().index"
   ]
  },
  {
   "cell_type": "code",
   "execution_count": 32,
   "metadata": {
    "scrolled": false
   },
   "outputs": [
    {
     "data": {
      "image/png": "[encoded data removed]",
      "text/plain": [
       "<Figure size 864x432 with 1 Axes>"
      ]
     },
     "metadata": {
      "needs_background": "light"
     },
     "output_type": "display_data"
    }
   ],
   "source": [
    "plt.figure(figsize = (12, 6))\n",
    "sb.countplot(data = data, x = \"EmploymentStatus\", color = sb.color_palette()[3], order = order)\n",
    "\n",
    "plt.title(\"Distribution of Employment Status\")\n",
    "plt.xlabel(\"Employment Status\")\n",
    "plt.ylabel(\"Frequency\")\n",
    "\n",
    "plt.show()"
   ]
  },
  {
   "cell_type": "markdown",
   "metadata": {},
   "source": [
    "> The distribution of **EmploymentStatus** showed that Employed people tend to apply for loan more than others. This may be because of the missing values of those features were filled with their mode but that just implies that they were already leading results in said features."
   ]
  },
  {
   "cell_type": "markdown",
   "metadata": {},
   "source": [
    "#### Distribution of Loan Original Amount"
   ]
  },
  {
   "cell_type": "code",
   "execution_count": 33,
   "metadata": {},
   "outputs": [
    {
     "data": {
      "image/png": "[encoded data removed]",
      "text/plain": [
       "<Figure size 1152x288 with 2 Axes>"
      ]
     },
     "metadata": {
      "needs_background": "light"
     },
     "output_type": "display_data"
    }
   ],
   "source": [
    "plt.figure(figsize = (16, 4))\n",
    "\n",
    "plt.subplot(1, 2, 1)\n",
    "plt.hist(data = data, x = \"LoanOriginalAmount\", bins = 40)\n",
    "\n",
    "plt.title(\"Distribution of Original Loan Amount\")\n",
    "plt.xlabel(\"Loan Original Amount\")\n",
    "plt.ylabel(\"Frequency\")\n",
    "\n",
    "plt.subplot(1, 2, 2)\n",
    "plt.hist(data = data, x = \"LoanOriginalAmount\")\n",
    "\n",
    "plt.title(\"Log Distribution of Original Loan Amount\")\n",
    "plt.xscale(\"log\")\n",
    "plt.xlabel(\"Log Loan Original Amount\")\n",
    "plt.ylabel(\"Frequency\")\n",
    "\n",
    "plt.show()"
   ]
  },
  {
   "cell_type": "markdown",
   "metadata": {},
   "source": [
    "> The distribution of **LoanOriginalAmount** is not skewed. Even with a log transformation, there is no change. \n",
    "There is a high frequency with an origination amount of about 4000 - 5000"
   ]
  },
  {
   "cell_type": "markdown",
   "metadata": {},
   "source": [
    "#### Distribution of Total Trades"
   ]
  },
  {
   "cell_type": "code",
   "execution_count": 34,
   "metadata": {},
   "outputs": [],
   "source": [
    "bins = np.arange(0, data[\"TotalTrades\"].max() + 3, 3)"
   ]
  },
  {
   "cell_type": "code",
   "execution_count": 35,
   "metadata": {},
   "outputs": [
    {
     "data": {
      "image/png": "[encoded data removed]",
      "text/plain": [
       "<Figure size 1152x288 with 2 Axes>"
      ]
     },
     "metadata": {
      "needs_background": "light"
     },
     "output_type": "display_data"
    }
   ],
   "source": [
    "plt.figure(figsize = (16, 4))\n",
    "plt.subplot(1, 2, 1)\n",
    "plt.title(\"Histogram of Total Trades(Before applying x-axis Limit)\")\n",
    "plt.hist(data = data, x = \"TotalTrades\", bins = bins)\n",
    "\n",
    "plt.xlabel(\"Total Trades\")\n",
    "plt.ylabel(\"Frequency\")\n",
    "\n",
    "plt.subplot(1, 2, 2)\n",
    "plt.title(\"Histogram of Total Trades(After applying x-axis Limit)\")\n",
    "plt.hist(data = data, x = \"TotalTrades\", bins = bins)\n",
    "\n",
    "plt.xlabel(\"Total Trades\")\n",
    "plt.xlim(0, 65)\n",
    "plt.ylabel(\"Frequency\")\n",
    "\n",
    "plt.show()"
   ]
  },
  {
   "cell_type": "markdown",
   "metadata": {},
   "source": [
    "> While the distribution of **TotalTrades** was skewed to the right, it still showed that most people tended to have trade lines of between 20 - 25."
   ]
  },
  {
   "cell_type": "markdown",
   "metadata": {},
   "source": [
    "#### Distribution of Monthly Loan Payment"
   ]
  },
  {
   "cell_type": "code",
   "execution_count": 36,
   "metadata": {},
   "outputs": [],
   "source": [
    "bins = np.arange(0, data[\"MonthlyLoanPayment\"].max() + 30, 30)"
   ]
  },
  {
   "cell_type": "code",
   "execution_count": 37,
   "metadata": {},
   "outputs": [
    {
     "data": {
      "image/png": "[encoded data removed]",
      "text/plain": [
       "<Figure size 1152x288 with 2 Axes>"
      ]
     },
     "metadata": {
      "needs_background": "light"
     },
     "output_type": "display_data"
    }
   ],
   "source": [
    "plt.figure(figsize = (16, 4))\n",
    "\n",
    "plt.subplot(1, 2, 1)\n",
    "plt.hist(data = data, x = \"MonthlyLoanPayment\", bins = bins)\n",
    "\n",
    "plt.title(\"Histogram of Monthly Loan Payment(Before applying x-axis Limit)\")\n",
    "plt.xlabel(\"Monthly Loan Payment\")\n",
    "plt.ylabel(\"Frequency\")\n",
    "\n",
    "plt.subplot(1, 2, 2)\n",
    "plt.title(\"Histogram of Monthly Loan Payment(After applying x-axis Limit)\")\n",
    "plt.hist(data = data, x = \"MonthlyLoanPayment\", bins = bins)\n",
    "\n",
    "plt.xlabel(\"Monthly Loan Payment\")\n",
    "plt.xlim(0, 1200)\n",
    "plt.ylabel(\"Frequency\")\n",
    "\n",
    "plt.show()"
   ]
  },
  {
   "cell_type": "markdown",
   "metadata": {},
   "source": [
    "> From the distribution of **Monthly Loan Payment** it can be discovered that most of Prosper monthly loan payment are less than  1,000 \\($\\), which indicates that prosper's services are mainly on personal loans."
   ]
  },
  {
   "cell_type": "markdown",
   "metadata": {},
   "source": [
    "<a id='bivariate'></a>\n",
    "### Bivariate Exploration"
   ]
  },
  {
   "cell_type": "markdown",
   "metadata": {},
   "source": [
    "#### Relationship between Prosper Score and Borrower APR "
   ]
  },
  {
   "cell_type": "code",
   "execution_count": 38,
   "metadata": {},
   "outputs": [
    {
     "data": {
      "image/png": "[encoded data removed]",
      "text/plain": [
       "<Figure size 1152x288 with 2 Axes>"
      ]
     },
     "metadata": {
      "needs_background": "light"
     },
     "output_type": "display_data"
    }
   ],
   "source": [
    "plt.figure(figsize = (16, 4))\n",
    "\n",
    "plt.subplot(1, 2, 1)\n",
    "plt.title(\"A Violin Plot of Prosper Score and Borrower APR\")\n",
    "sb.violinplot(data = data, x = \"ProsperScore\", y = \"BorrowerAPR\", inner = \"quartile\", color = sb.color_palette()[2])\n",
    "\n",
    "plt.xlabel(\"Prosper Score\")\n",
    "plt.ylabel(\"Borrower APR\")\n",
    "\n",
    "plt.subplot(1, 2, 2)\n",
    "plt.title(\"A Box Plot of Prosper Score and Borrower APR\")\n",
    "sb.boxplot(data = data, x = \"ProsperScore\", y = \"BorrowerAPR\", color = sb.color_palette()[2])\n",
    "\n",
    "plt.xlabel(\"Prosper Score\")\n",
    "plt.ylabel(\"Borrower APR\")\n",
    "\n",
    "plt.show()"
   ]
  },
  {
   "cell_type": "markdown",
   "metadata": {},
   "source": [
    "> The above visualization shows the relationship between the Prosper Score and Borrower APR. It shows that:\n",
    "> - Prosper Score (5) had a wider range of Borrower APR and the lowest Borrower APR of all the Score. \n",
    "> - Prosper Score 4 had the highest Borrower APR. \n",
    "> - There were a lot of outliers in Prosper Score 1 and it also had the lowest range of Borrower APR."
   ]
  },
  {
   "cell_type": "markdown",
   "metadata": {},
   "source": [
    "#### Relationship between Prosper Rating and Employment Status"
   ]
  },
  {
   "cell_type": "code",
   "execution_count": 39,
   "metadata": {},
   "outputs": [
    {
     "data": {
      "image/png": "[encoded data removed]",
      "text/plain": [
       "<Figure size 1152x432 with 1 Axes>"
      ]
     },
     "metadata": {
      "needs_background": "light"
     },
     "output_type": "display_data"
    }
   ],
   "source": [
    "plt.figure(figsize = (16, 6))\n",
    "\n",
    "sb.countplot(data = data, x = \"ProsperRating (numeric)\", hue = \"EmploymentStatus\", hue_order = order)\n",
    "\n",
    "plt.title(\"Relationship Between Prosper Rating and Employment Status\")\n",
    "plt.xlabel(\"Numeric Prosper Rating\")\n",
    "plt.ylabel(\"Frequency \")\n",
    "\n",
    "plt.legend(title = \"Employment Status\")\n",
    "plt.show()"
   ]
  },
  {
   "cell_type": "markdown",
   "metadata": {},
   "source": [
    "#### Relationship between Prosper Score and Employment Status"
   ]
  },
  {
   "cell_type": "code",
   "execution_count": 40,
   "metadata": {
    "scrolled": false
   },
   "outputs": [
    {
     "data": {
      "image/png": "[encoded data removed]",
      "text/plain": [
       "<Figure size 1152x432 with 1 Axes>"
      ]
     },
     "metadata": {
      "needs_background": "light"
     },
     "output_type": "display_data"
    }
   ],
   "source": [
    "plt.figure(figsize = (16, 6))\n",
    "\n",
    "sb.countplot(data = data, x = \"ProsperScore\", hue = \"EmploymentStatus\", hue_order = order)\n",
    "\n",
    "plt.title(\"Relationship Between Prosper Score and Employment Status\")\n",
    "plt.xlabel(\"Prosper Score\")\n",
    "plt.ylabel(\"Frequency \")\n",
    "\n",
    "plt.legend(title = \"Employment Status\", loc = \"upper right\")\n",
    "\n",
    "plt.show()"
   ]
  },
  {
   "cell_type": "markdown",
   "metadata": {},
   "source": [
    "> The above visualizations shows the relationship between the **Numeric Prosper Rating** and **Prosper Score** against **Employment Status**. It shows that for every Rating and Score, `Employed` people made up most of the consideration. `Not available` and `Part-time` made up the least except in the Rating `4` and Score `5` where `Full-time` makes the highest consideration and `Not available` also made a considerable portion compared to others."
   ]
  },
  {
   "cell_type": "markdown",
   "metadata": {},
   "source": [
    "#### Relationship Between Prosper Score and Income Verifiable"
   ]
  },
  {
   "cell_type": "code",
   "execution_count": 42,
   "metadata": {},
   "outputs": [
    {
     "data": {
      "image/png": "[encoded data removed]",
      "text/plain": [
       "<Figure size 864x432 with 1 Axes>"
      ]
     },
     "metadata": {
      "needs_background": "light"
     },
     "output_type": "display_data"
    }
   ],
   "source": [
    "plt.figure(figsize = (12, 6))\n",
    "sb.countplot(data = data, x = \"ProsperScore\", hue = \"IncomeVerifiable\")\n",
    "\n",
    "plt.title(\"Relationship Between Prosper Score and Income Verifiabe\")\n",
    "plt.xlabel(\"Prosper Score\")\n",
    "plt.ylabel(\"Frequency \")\n",
    "\n",
    "plt.legend(title = \"Income Verifiable\")\n",
    "\n",
    "plt.show()"
   ]
  },
  {
   "cell_type": "markdown",
   "metadata": {},
   "source": [
    "#### Relationship between Prosper Score, Prosper Rating and Borrower Rate"
   ]
  },
  {
   "cell_type": "code",
   "execution_count": 53,
   "metadata": {},
   "outputs": [
    {
     "data": {
      "image/png": "[encoded data removed]",
      "text/plain": [
       "<Figure size 1152x720 with 2 Axes>"
      ]
     },
     "metadata": {
      "needs_background": "light"
     },
     "output_type": "display_data"
    }
   ],
   "source": [
    "plt.figure(figsize = (16, 10))\n",
    "\n",
    "plt.subplot(1, 2, 1)\n",
    "plt.title(\"A Box Plot of Prosper Score and Borrower Rate\")\n",
    "sb.boxplot(data = data, x = \"ProsperScore\", y = \"BorrowerRate\", color = sb.color_palette()[2])\n",
    "\n",
    "plt.xlabel(\"Prosper Score\")\n",
    "plt.ylabel(\"Borrower Rate\")\n",
    "\n",
    "plt.subplot(1, 2, 2)\n",
    "plt.title(\"A Box Plot of Prosper Rating and Borrower Rate\")\n",
    "sb.boxplot(data = data, x = \"ProsperRating (Alpha)\", y = \"BorrowerRate\", color = sb.color_palette()[2])\n",
    "\n",
    "plt.xlabel(\"Prosper Rating\")\n",
    "plt.ylabel(\"Borrower Rate\")\n",
    "\n",
    "plt.show()"
   ]
  },
  {
   "cell_type": "markdown",
   "metadata": {},
   "source": [
    "> The plot show strong correlation between the **Prosper rating** or **Prosper score** with the  **Borrower Rate**. Generally, borrowers have no clue on their prosper scores.  So these information can not be included in our model."
   ]
  },
  {
   "cell_type": "markdown",
   "metadata": {},
   "source": [
    "#### Relationship Between Prosper Score and Prosper Rating"
   ]
  },
  {
   "cell_type": "code",
   "execution_count": 57,
   "metadata": {},
   "outputs": [
    {
     "data": {
      "image/png": "[encoded data removed]",
      "text/plain": [
       "<Figure size 1152x504 with 2 Axes>"
      ]
     },
     "metadata": {
      "needs_background": "light"
     },
     "output_type": "display_data"
    }
   ],
   "source": [
    "plt.figure(figsize = (16, 7))\n",
    "\n",
    "plt.subplot(1, 2, 1)\n",
    "sb.countplot(data = data, x = \"ProsperScore\", hue = \"ProsperRating (numeric)\")\n",
    "\n",
    "plt.title(\"Relationship Between Prosper Rating and Prosper Score(No x-axis Limit)\")\n",
    "plt.xlabel(\"Prosper Rating\")\n",
    "plt.ylabel(\"Frequency \")\n",
    "\n",
    "plt.legend(title = \"Prosper Score\", loc = \"upper right\")\n",
    "\n",
    "plt.subplot(1, 2, 2)\n",
    "sb.countplot(data = data, x = \"ProsperScore\", hue = \"ProsperRating (numeric)\")\n",
    "\n",
    "plt.title(\"Relationship Between Prosper Rating and Prosper Score(With x-axis Limit)\")\n",
    "plt.xlabel(\"Prosper Rating\")\n",
    "plt.ylabel(\"Frequency \")\n",
    "plt.ylim(0, 10000)\n",
    "\n",
    "plt.legend(title = \"Prosper Score\", loc = \"upper right\")\n",
    "\n",
    "plt.show()"
   ]
  },
  {
   "cell_type": "markdown",
   "metadata": {},
   "source": [
    "> The above visualization shows the relationship between **Prosper Rating** and **Prosper Score**. Each Rating had varying levels of Score but Rating 5 had the highest Score of 4. I also noticed that Scores 8, 9, 10, 11 had no relationhip with the Ratings."
   ]
  },
  {
   "cell_type": "markdown",
   "metadata": {},
   "source": [
    "#### Relationship between Prosper Rating and Monthly Loan Payment"
   ]
  },
  {
   "cell_type": "code",
   "execution_count": 61,
   "metadata": {},
   "outputs": [],
   "source": [
    "bins = np.arange(0, data[\"MonthlyLoanPayment\"].max() + 30, 30)"
   ]
  },
  {
   "cell_type": "code",
   "execution_count": 62,
   "metadata": {},
   "outputs": [
    {
     "data": {
      "image/png": "[encoded data removed]",
      "text/plain": [
       "<Figure size 648x648 with 7 Axes>"
      ]
     },
     "metadata": {
      "needs_background": "light"
     },
     "output_type": "display_data"
    }
   ],
   "source": [
    "g = sb.FacetGrid(data = data, col = \"ProsperRating (Alpha)\", col_wrap = 3)\n",
    "g.map(plt.hist, \"MonthlyLoanPayment\", bins = bins)\n",
    "g.set_titles(\"{col_name}\")\n",
    "\n",
    "g.set(xlim = (0, 1200))\n",
    "g.set_xlabels(\"Monthly Loan Payment\")\n",
    "g.set_ylabels(\"Distribution\")\n",
    "\n",
    "plt.show()"
   ]
  },
  {
   "cell_type": "markdown",
   "metadata": {},
   "source": [
    "> The above visualization shows the distribution of **Monthly Loan Payment** for each **Prosper Rating (Alpha)**. It shows that Rating `C` had the most occurence of Monthly Loan Payment."
   ]
  },
  {
   "cell_type": "markdown",
   "metadata": {},
   "source": [
    "### Relationship Between Main Features\n",
    "\n",
    "> My main features showed some interesting relationships with themselves and other features. I observed that Prosper Rating influenced one's Prosper Score. The max Borrower APR tended to decrease as Prosper Score increased."
   ]
  },
  {
   "cell_type": "markdown",
   "metadata": {},
   "source": [
    "### Relationship Between Other Features\n",
    "\n",
    "> Employed people made up the highest composition of Ratings and also had better Ratings than others as did Income Verification wih Prosper Score. I also observed that the number of Trade Lines a person has positively influences their Credit Lines."
   ]
  },
  {
   "cell_type": "markdown",
   "metadata": {},
   "source": [
    "<a id='multivariate'></a>\n",
    "### Multivariate Exploration"
   ]
  },
  {
   "cell_type": "markdown",
   "metadata": {},
   "source": [
    "#### Relationship Between Prosper Score, Borrower APR and Income Verifiable"
   ]
  },
  {
   "cell_type": "code",
   "execution_count": 64,
   "metadata": {},
   "outputs": [
    {
     "data": {
      "image/png": "[encoded data removed]",
      "text/plain": [
       "<Figure size 864x432 with 1 Axes>"
      ]
     },
     "metadata": {
      "needs_background": "light"
     },
     "output_type": "display_data"
    }
   ],
   "source": [
    "plt.figure(figsize = (12, 6))\n",
    "sb.boxplot(data = data, x = \"ProsperScore\", y = \"BorrowerAPR\", hue = \"IncomeVerifiable\")\n",
    "\n",
    "plt.title(\"Relationship Between Prosper Score, Borrower APR and Income Verifiable\")\n",
    "plt.xlabel(\"Prosper Score\")\n",
    "plt.ylabel(\"Borrower APR\")\n",
    "\n",
    "plt.show()"
   ]
  },
  {
   "cell_type": "markdown",
   "metadata": {},
   "source": [
    "## Conclusions\n",
    "> - The distribution of **BorrowerAPR** looks normal but with a spike in value at around 0.3 - 0.4\n",
    "> - The **prosper Score**, **Prosper Rating (Alpha)** and **Prosper Rating (Numeric)** are identical, the alpha column is just a alphabetic representation of the numeric column. Rating 4 has the highest frequency. The rating was increasing till it got to 4 then it also steadily decreased from 4.\n",
    "> - The distribution of **EmploymentStatus** showed that Employed people tend to apply for loan more than others. This may be because of the missing values of those features were filled with their mode but that just implies that they were already leading results in said features.\n",
    "> - The distribution of **LoanOriginalAmount** is not skewed. Even with a log transformation, there is no change. There is a high frequency with an origination amount of about 4000 - 5000\n",
    "> - While the distribution of **TotalTrades** was skewed to the right, it still showed that most people tended to have trade lines of between 20 - 25.\n",
    "> - From the distribution of **Monthly Loan Payment** it can be discovered that most of Prosper monthly loan payment are less than 1,000 \\($\\), which indicates that prosper's services are mainly on personal loans.\n",
    "> From the relationship between the **Prosper Score** and **Borrower APR**. It shows that:\n",
    "> - Prosper Score (5) had a wider range of Borrower APR and the lowest Borrower APR of all the Score. \n",
    "> - Prosper Score 4 had the highest Borrower APR. \n",
    "> - There were a lot of outliers in Prosper Score 1 and it also had the lowest range of Borrower APR.\n",
    "> - The above visualizations shows the relationship between the **Numeric Prosper Rating** and **Prosper Score** against **Employment Status**. It shows that for every Rating and Score, `Employed` people made up most of the consideration. `Not available` and `Part-time` made up the least except in the Rating `4` and Score `5` where `Full-time` makes the highest consideration and `Not available` also made a considerable portion compared to others.\n",
    "> - The plot show strong correlation between the **Prosper rating** or **Prosper score** with the  **Borrower Rate**. Generally, borrowers have no clue on their prosper scores.  So these information can not be included in our model.\n",
    "> - The above visualization shows the relationship between **Prosper Rating** and **Prosper Score**. Each Rating had varying levels of Score but Rating 5 had the highest Score of 4. I also noticed that Scores 8, 9, 10, 11 had no relationhip with the Ratings.\n",
    "> - The above visualization shows the distribution of **Monthly Loan Payment** for each **Prosper Rating (Alpha)**. It shows that Rating `C` had the most occurence of Monthly Loan Payment."
   ]
  }
 ],
 "metadata": {
  "kernelspec": {
   "display_name": "Python 3 (ipykernel)",
   "language": "python",
   "name": "python3"
  },
  "language_info": {
   "codemirror_mode": {
    "name": "ipython",
    "version": 3
   },
   "file_extension": ".py",
   "mimetype": "text/x-python",
   "name": "python",
   "nbconvert_exporter": "python",
   "pygments_lexer": "ipython3",
   "version": "3.9.7"
  }
 },
 "nbformat": 4,
 "nbformat_minor": 2
}
